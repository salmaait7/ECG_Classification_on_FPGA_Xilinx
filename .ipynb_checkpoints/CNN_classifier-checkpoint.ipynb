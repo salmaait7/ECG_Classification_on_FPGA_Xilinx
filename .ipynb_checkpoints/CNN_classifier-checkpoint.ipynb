{
 "cells": [
  {
   "cell_type": "markdown",
   "metadata": {},
   "source": [
    "# Introduction"
   ]
  },
  {
   "cell_type": "markdown",
   "metadata": {},
   "source": [
    "***Importing our main libraries***"
   ]
  },
  {
   "cell_type": "code",
   "execution_count": 1,
   "metadata": {},
   "outputs": [],
   "source": [
    "import numpy as np\n",
    "import pandas as pd\n",
    "import seaborn as sns\n",
    "import matplotlib.pyplot as plt\n",
    "import keras\n",
    "from sklearn.metrics import classification_report\n",
    "from sklearn.model_selection import train_test_split\n",
    "from sklearn.metrics import f1_score\n",
    "from sklearn.metrics import confusion_matrix\n",
    "from keras.utils import to_categorical\n",
    "from sklearn.utils import class_weight"
   ]
  },
  {
   "cell_type": "markdown",
   "metadata": {},
   "source": [
    "# Dataset Overview"
   ]
  },
  {
   "cell_type": "markdown",
   "metadata": {},
   "source": [
    "***Firstly,\n",
    "MIT- Arrhythmia Dataset contains:\n",
    "Number of Samples: 109446\n",
    "Number of Categories: 5\n",
    "Sampling Frequency: 125Hz\n",
    "Data Source: Physionet's MIT-BIH Arrhythmia Dataset\n",
    "Classes: ['N': 0, 'S': 1, 'V': 2, 'F': 3, 'Q': 4]\n",
    "We read through pandas library .csv file to start processing on it,***\n",
    "\n",
    "- ECG heartbeat classification can be used in real-time for arrhythmia detection. Arrhythmias are abnormal heart rhythms that can be dangerous. By classifying heartbeats in real-time, doctors can monitor patients for arrhythmias and intervene quickly if necessary.\n",
    "- For instance, a device worn by a patient could use ECG heartbeat classification to monitor their heart rhythm for signs of arrhythmia. If an arrhythmia is detected, the device could alert the patient or their doctor, and also for driver detection of fatigue using ecg sensor or smartwatch."
   ]
  },
  {
   "cell_type": "code",
   "execution_count": 9,
   "metadata": {},
   "outputs": [
    {
     "name": "stdout",
     "output_type": "stream",
     "text": [
      "Datasets concatenated and saved as 'ptbdb.csv'.\n"
     ]
    }
   ],
   "source": [
    "import pandas as pd\n",
    "\n",
    "# Read the datasets\n",
    "normal = pd.read_csv('ptbdb_normal.csv', header=None)\n",
    "abnormal = pd.read_csv('ptbdb_abnormal.csv', header=None)\n",
    "\n",
    "\n",
    "\n",
    "# Concatenate the two datasets\n",
    "combined_data = pd.concat([normal, abnormal], ignore_index=True)\n",
    "\n",
    "# Save the combined dataset to a new CSV file\n",
    "combined_data.to_csv('ptbdb.csv', index=False, header=False)\n",
    "\n",
    "print(\"Datasets concatenated and saved as 'ptbdb.csv'.\")\n",
    "\n",
    "\n"
   ]
  },
  {
   "cell_type": "code",
   "execution_count": 10,
   "metadata": {},
   "outputs": [],
   "source": [
    "df =pd.read_csv('ptbdb.csv', header=None)"
   ]
  },
  {
   "cell_type": "code",
   "execution_count": 18,
   "metadata": {},
   "outputs": [
    {
     "name": "stdout",
     "output_type": "stream",
     "text": [
      "187\n",
      "1.0    10506\n",
      "0.0     4046\n",
      "Name: count, dtype: int64\n"
     ]
    }
   ],
   "source": [
    "df[187]=df[187].astype(float)\n",
    "equilibre = df[187].value_counts()\n",
    "print(equilibre)"
   ]
  },
  {
   "cell_type": "code",
   "execution_count": 19,
   "metadata": {},
   "outputs": [
    {
     "name": "stdout",
     "output_type": "stream",
     "text": [
      "Class label 0.0: Normal beats\n",
      "Class label 1.0: Abnormal beats\n"
     ]
    }
   ],
   "source": [
    "\n",
    "# Get the unique values in the last column\n",
    "class_labels = df[187].unique() #the unique() to count the number one time only\n",
    "\n",
    "# Assign meaningful names to the class labels based on domain knowledge\n",
    "class_names = {\n",
    "    0: \"Normal beats\",\n",
    "    1: \"Abnormal beats\",\n",
    "    \n",
    "}\n",
    "\n",
    "# Print class labels with their assigned names\n",
    "for label in class_labels:\n",
    "    print(f\"Class label {label}: {class_names[label]}\")"
   ]
  },
  {
   "cell_type": "markdown",
   "metadata": {},
   "source": [
    "# Exploratory Data Analysis "
   ]
  },
  {
   "cell_type": "markdown",
   "metadata": {},
   "source": [
    "***let's show the training data to know what it contains how many rows & columns***"
   ]
  },
  {
   "cell_type": "code",
   "execution_count": 22,
   "metadata": {},
   "outputs": [
    {
     "data": {
      "text/html": [
       "<div>\n",
       "<style scoped>\n",
       "    .dataframe tbody tr th:only-of-type {\n",
       "        vertical-align: middle;\n",
       "    }\n",
       "\n",
       "    .dataframe tbody tr th {\n",
       "        vertical-align: top;\n",
       "    }\n",
       "\n",
       "    .dataframe thead th {\n",
       "        text-align: right;\n",
       "    }\n",
       "</style>\n",
       "<table border=\"1\" class=\"dataframe\">\n",
       "  <thead>\n",
       "    <tr style=\"text-align: right;\">\n",
       "      <th></th>\n",
       "      <th>0</th>\n",
       "      <th>1</th>\n",
       "      <th>2</th>\n",
       "      <th>3</th>\n",
       "      <th>4</th>\n",
       "      <th>5</th>\n",
       "      <th>6</th>\n",
       "      <th>7</th>\n",
       "      <th>8</th>\n",
       "      <th>9</th>\n",
       "      <th>...</th>\n",
       "      <th>178</th>\n",
       "      <th>179</th>\n",
       "      <th>180</th>\n",
       "      <th>181</th>\n",
       "      <th>182</th>\n",
       "      <th>183</th>\n",
       "      <th>184</th>\n",
       "      <th>185</th>\n",
       "      <th>186</th>\n",
       "      <th>187</th>\n",
       "    </tr>\n",
       "  </thead>\n",
       "  <tbody>\n",
       "    <tr>\n",
       "      <th>0</th>\n",
       "      <td>1.000000</td>\n",
       "      <td>0.900324</td>\n",
       "      <td>0.358590</td>\n",
       "      <td>0.051459</td>\n",
       "      <td>0.046596</td>\n",
       "      <td>0.126823</td>\n",
       "      <td>0.133306</td>\n",
       "      <td>0.119125</td>\n",
       "      <td>0.110616</td>\n",
       "      <td>0.113047</td>\n",
       "      <td>...</td>\n",
       "      <td>0.0</td>\n",
       "      <td>0.0</td>\n",
       "      <td>0.0</td>\n",
       "      <td>0.0</td>\n",
       "      <td>0.0</td>\n",
       "      <td>0.0</td>\n",
       "      <td>0.0</td>\n",
       "      <td>0.0</td>\n",
       "      <td>0.0</td>\n",
       "      <td>0.0</td>\n",
       "    </tr>\n",
       "    <tr>\n",
       "      <th>1</th>\n",
       "      <td>1.000000</td>\n",
       "      <td>0.794681</td>\n",
       "      <td>0.375387</td>\n",
       "      <td>0.116883</td>\n",
       "      <td>0.000000</td>\n",
       "      <td>0.171923</td>\n",
       "      <td>0.283859</td>\n",
       "      <td>0.293754</td>\n",
       "      <td>0.325912</td>\n",
       "      <td>0.345083</td>\n",
       "      <td>...</td>\n",
       "      <td>0.0</td>\n",
       "      <td>0.0</td>\n",
       "      <td>0.0</td>\n",
       "      <td>0.0</td>\n",
       "      <td>0.0</td>\n",
       "      <td>0.0</td>\n",
       "      <td>0.0</td>\n",
       "      <td>0.0</td>\n",
       "      <td>0.0</td>\n",
       "      <td>0.0</td>\n",
       "    </tr>\n",
       "    <tr>\n",
       "      <th>2</th>\n",
       "      <td>0.909029</td>\n",
       "      <td>0.791482</td>\n",
       "      <td>0.423169</td>\n",
       "      <td>0.186712</td>\n",
       "      <td>0.000000</td>\n",
       "      <td>0.007836</td>\n",
       "      <td>0.063032</td>\n",
       "      <td>0.077002</td>\n",
       "      <td>0.074957</td>\n",
       "      <td>0.077342</td>\n",
       "      <td>...</td>\n",
       "      <td>0.0</td>\n",
       "      <td>0.0</td>\n",
       "      <td>0.0</td>\n",
       "      <td>0.0</td>\n",
       "      <td>0.0</td>\n",
       "      <td>0.0</td>\n",
       "      <td>0.0</td>\n",
       "      <td>0.0</td>\n",
       "      <td>0.0</td>\n",
       "      <td>0.0</td>\n",
       "    </tr>\n",
       "    <tr>\n",
       "      <th>3</th>\n",
       "      <td>1.000000</td>\n",
       "      <td>0.478893</td>\n",
       "      <td>0.056760</td>\n",
       "      <td>0.064176</td>\n",
       "      <td>0.081289</td>\n",
       "      <td>0.072732</td>\n",
       "      <td>0.055619</td>\n",
       "      <td>0.048774</td>\n",
       "      <td>0.054478</td>\n",
       "      <td>0.041643</td>\n",
       "      <td>...</td>\n",
       "      <td>0.0</td>\n",
       "      <td>0.0</td>\n",
       "      <td>0.0</td>\n",
       "      <td>0.0</td>\n",
       "      <td>0.0</td>\n",
       "      <td>0.0</td>\n",
       "      <td>0.0</td>\n",
       "      <td>0.0</td>\n",
       "      <td>0.0</td>\n",
       "      <td>0.0</td>\n",
       "    </tr>\n",
       "    <tr>\n",
       "      <th>4</th>\n",
       "      <td>1.000000</td>\n",
       "      <td>0.867238</td>\n",
       "      <td>0.201360</td>\n",
       "      <td>0.099349</td>\n",
       "      <td>0.141336</td>\n",
       "      <td>0.120934</td>\n",
       "      <td>0.108516</td>\n",
       "      <td>0.096393</td>\n",
       "      <td>0.093436</td>\n",
       "      <td>0.100828</td>\n",
       "      <td>...</td>\n",
       "      <td>0.0</td>\n",
       "      <td>0.0</td>\n",
       "      <td>0.0</td>\n",
       "      <td>0.0</td>\n",
       "      <td>0.0</td>\n",
       "      <td>0.0</td>\n",
       "      <td>0.0</td>\n",
       "      <td>0.0</td>\n",
       "      <td>0.0</td>\n",
       "      <td>0.0</td>\n",
       "    </tr>\n",
       "    <tr>\n",
       "      <th>...</th>\n",
       "      <td>...</td>\n",
       "      <td>...</td>\n",
       "      <td>...</td>\n",
       "      <td>...</td>\n",
       "      <td>...</td>\n",
       "      <td>...</td>\n",
       "      <td>...</td>\n",
       "      <td>...</td>\n",
       "      <td>...</td>\n",
       "      <td>...</td>\n",
       "      <td>...</td>\n",
       "      <td>...</td>\n",
       "      <td>...</td>\n",
       "      <td>...</td>\n",
       "      <td>...</td>\n",
       "      <td>...</td>\n",
       "      <td>...</td>\n",
       "      <td>...</td>\n",
       "      <td>...</td>\n",
       "      <td>...</td>\n",
       "      <td>...</td>\n",
       "    </tr>\n",
       "    <tr>\n",
       "      <th>14547</th>\n",
       "      <td>0.981409</td>\n",
       "      <td>1.000000</td>\n",
       "      <td>0.559171</td>\n",
       "      <td>0.287093</td>\n",
       "      <td>0.196639</td>\n",
       "      <td>0.204862</td>\n",
       "      <td>0.215946</td>\n",
       "      <td>0.243833</td>\n",
       "      <td>0.242760</td>\n",
       "      <td>0.250268</td>\n",
       "      <td>...</td>\n",
       "      <td>0.0</td>\n",
       "      <td>0.0</td>\n",
       "      <td>0.0</td>\n",
       "      <td>0.0</td>\n",
       "      <td>0.0</td>\n",
       "      <td>0.0</td>\n",
       "      <td>0.0</td>\n",
       "      <td>0.0</td>\n",
       "      <td>0.0</td>\n",
       "      <td>1.0</td>\n",
       "    </tr>\n",
       "    <tr>\n",
       "      <th>14548</th>\n",
       "      <td>0.906250</td>\n",
       "      <td>0.922379</td>\n",
       "      <td>0.878024</td>\n",
       "      <td>0.810484</td>\n",
       "      <td>0.712702</td>\n",
       "      <td>0.667339</td>\n",
       "      <td>0.608871</td>\n",
       "      <td>0.527218</td>\n",
       "      <td>0.480847</td>\n",
       "      <td>0.442540</td>\n",
       "      <td>...</td>\n",
       "      <td>0.0</td>\n",
       "      <td>0.0</td>\n",
       "      <td>0.0</td>\n",
       "      <td>0.0</td>\n",
       "      <td>0.0</td>\n",
       "      <td>0.0</td>\n",
       "      <td>0.0</td>\n",
       "      <td>0.0</td>\n",
       "      <td>0.0</td>\n",
       "      <td>1.0</td>\n",
       "    </tr>\n",
       "    <tr>\n",
       "      <th>14549</th>\n",
       "      <td>1.000000</td>\n",
       "      <td>0.867971</td>\n",
       "      <td>0.674122</td>\n",
       "      <td>0.470332</td>\n",
       "      <td>0.296987</td>\n",
       "      <td>0.169307</td>\n",
       "      <td>0.077664</td>\n",
       "      <td>0.081392</td>\n",
       "      <td>0.074868</td>\n",
       "      <td>0.089779</td>\n",
       "      <td>...</td>\n",
       "      <td>0.0</td>\n",
       "      <td>0.0</td>\n",
       "      <td>0.0</td>\n",
       "      <td>0.0</td>\n",
       "      <td>0.0</td>\n",
       "      <td>0.0</td>\n",
       "      <td>0.0</td>\n",
       "      <td>0.0</td>\n",
       "      <td>0.0</td>\n",
       "      <td>1.0</td>\n",
       "    </tr>\n",
       "    <tr>\n",
       "      <th>14550</th>\n",
       "      <td>1.000000</td>\n",
       "      <td>0.984672</td>\n",
       "      <td>0.658888</td>\n",
       "      <td>0.556394</td>\n",
       "      <td>0.446809</td>\n",
       "      <td>0.395790</td>\n",
       "      <td>0.315260</td>\n",
       "      <td>0.276367</td>\n",
       "      <td>0.261039</td>\n",
       "      <td>0.258522</td>\n",
       "      <td>...</td>\n",
       "      <td>0.0</td>\n",
       "      <td>0.0</td>\n",
       "      <td>0.0</td>\n",
       "      <td>0.0</td>\n",
       "      <td>0.0</td>\n",
       "      <td>0.0</td>\n",
       "      <td>0.0</td>\n",
       "      <td>0.0</td>\n",
       "      <td>0.0</td>\n",
       "      <td>1.0</td>\n",
       "    </tr>\n",
       "    <tr>\n",
       "      <th>14551</th>\n",
       "      <td>0.997886</td>\n",
       "      <td>0.700317</td>\n",
       "      <td>0.464059</td>\n",
       "      <td>0.318182</td>\n",
       "      <td>0.233615</td>\n",
       "      <td>0.184989</td>\n",
       "      <td>0.124207</td>\n",
       "      <td>0.082981</td>\n",
       "      <td>0.087738</td>\n",
       "      <td>0.063953</td>\n",
       "      <td>...</td>\n",
       "      <td>0.0</td>\n",
       "      <td>0.0</td>\n",
       "      <td>0.0</td>\n",
       "      <td>0.0</td>\n",
       "      <td>0.0</td>\n",
       "      <td>0.0</td>\n",
       "      <td>0.0</td>\n",
       "      <td>0.0</td>\n",
       "      <td>0.0</td>\n",
       "      <td>1.0</td>\n",
       "    </tr>\n",
       "  </tbody>\n",
       "</table>\n",
       "<p>14552 rows × 188 columns</p>\n",
       "</div>"
      ],
      "text/plain": [
       "            0         1         2         3         4         5         6    \\\n",
       "0      1.000000  0.900324  0.358590  0.051459  0.046596  0.126823  0.133306   \n",
       "1      1.000000  0.794681  0.375387  0.116883  0.000000  0.171923  0.283859   \n",
       "2      0.909029  0.791482  0.423169  0.186712  0.000000  0.007836  0.063032   \n",
       "3      1.000000  0.478893  0.056760  0.064176  0.081289  0.072732  0.055619   \n",
       "4      1.000000  0.867238  0.201360  0.099349  0.141336  0.120934  0.108516   \n",
       "...         ...       ...       ...       ...       ...       ...       ...   \n",
       "14547  0.981409  1.000000  0.559171  0.287093  0.196639  0.204862  0.215946   \n",
       "14548  0.906250  0.922379  0.878024  0.810484  0.712702  0.667339  0.608871   \n",
       "14549  1.000000  0.867971  0.674122  0.470332  0.296987  0.169307  0.077664   \n",
       "14550  1.000000  0.984672  0.658888  0.556394  0.446809  0.395790  0.315260   \n",
       "14551  0.997886  0.700317  0.464059  0.318182  0.233615  0.184989  0.124207   \n",
       "\n",
       "            7         8         9    ...  178  179  180  181  182  183  184  \\\n",
       "0      0.119125  0.110616  0.113047  ...  0.0  0.0  0.0  0.0  0.0  0.0  0.0   \n",
       "1      0.293754  0.325912  0.345083  ...  0.0  0.0  0.0  0.0  0.0  0.0  0.0   \n",
       "2      0.077002  0.074957  0.077342  ...  0.0  0.0  0.0  0.0  0.0  0.0  0.0   \n",
       "3      0.048774  0.054478  0.041643  ...  0.0  0.0  0.0  0.0  0.0  0.0  0.0   \n",
       "4      0.096393  0.093436  0.100828  ...  0.0  0.0  0.0  0.0  0.0  0.0  0.0   \n",
       "...         ...       ...       ...  ...  ...  ...  ...  ...  ...  ...  ...   \n",
       "14547  0.243833  0.242760  0.250268  ...  0.0  0.0  0.0  0.0  0.0  0.0  0.0   \n",
       "14548  0.527218  0.480847  0.442540  ...  0.0  0.0  0.0  0.0  0.0  0.0  0.0   \n",
       "14549  0.081392  0.074868  0.089779  ...  0.0  0.0  0.0  0.0  0.0  0.0  0.0   \n",
       "14550  0.276367  0.261039  0.258522  ...  0.0  0.0  0.0  0.0  0.0  0.0  0.0   \n",
       "14551  0.082981  0.087738  0.063953  ...  0.0  0.0  0.0  0.0  0.0  0.0  0.0   \n",
       "\n",
       "       185  186  187  \n",
       "0      0.0  0.0  0.0  \n",
       "1      0.0  0.0  0.0  \n",
       "2      0.0  0.0  0.0  \n",
       "3      0.0  0.0  0.0  \n",
       "4      0.0  0.0  0.0  \n",
       "...    ...  ...  ...  \n",
       "14547  0.0  0.0  1.0  \n",
       "14548  0.0  0.0  1.0  \n",
       "14549  0.0  0.0  1.0  \n",
       "14550  0.0  0.0  1.0  \n",
       "14551  0.0  0.0  1.0  \n",
       "\n",
       "[14552 rows x 188 columns]"
      ]
     },
     "execution_count": 22,
     "metadata": {},
     "output_type": "execute_result"
    }
   ],
   "source": [
    "df"
   ]
  },
  {
   "cell_type": "markdown",
   "metadata": {},
   "source": [
    "***We get the unique values from the last column that contains all classes and our target, and rename it to become more clear and clarifiable***"
   ]
  },
  {
   "cell_type": "markdown",
   "metadata": {},
   "source": [
    "***See if there's missing values in the dataset, by seeing the NaN and average mean but all of the columns have a numbers because its contains of reads in every row at the end of column numbers it captures the electrical activity of your heart over time, ECG datasets are typically large and formatted with multiple leads (channels) capturing electrical activity from different angles of the heart.***"
   ]
  },
  {
   "cell_type": "code",
   "execution_count": 24,
   "metadata": {},
   "outputs": [
    {
     "name": "stdout",
     "output_type": "stream",
     "text": [
      "Columns and their NaN percentages:\n",
      "0      0.0\n",
      "1      0.0\n",
      "2      0.0\n",
      "3      0.0\n",
      "4      0.0\n",
      "      ... \n",
      "183    0.0\n",
      "184    0.0\n",
      "185    0.0\n",
      "186    0.0\n",
      "187    0.0\n",
      "Length: 188, dtype: float64\n"
     ]
    }
   ],
   "source": [
    "# Explore dataset\n",
    "print(\"Columns and their NaN percentages:\")\n",
    "null_col = df.isna().mean() * 100\n",
    "print(null_col)"
   ]
  },
  {
   "cell_type": "markdown",
   "metadata": {},
   "source": [
    "***Change the datatype to float and get the unique values in the last column to see how many rows in every class and store them in equilibre variable and print them***"
   ]
  },
  {
   "cell_type": "code",
   "execution_count": 8,
   "metadata": {},
   "outputs": [
    {
     "name": "stdout",
     "output_type": "stream",
     "text": [
      "187\n",
      "0.0    72471\n",
      "4.0     6431\n",
      "2.0     5788\n",
      "1.0     2223\n",
      "3.0      641\n",
      "Name: count, dtype: int64\n"
     ]
    }
   ],
   "source": [
    "train_df[187]=train_df[187].astype(float)\n",
    "equilibre = train_df[187].value_counts()\n",
    "print(equilibre)"
   ]
  },
  {
   "cell_type": "code",
   "execution_count": 25,
   "metadata": {},
   "outputs": [
    {
     "name": "stdout",
     "output_type": "stream",
     "text": [
      "<class 'pandas.core.frame.DataFrame'>\n",
      "RangeIndex: 14552 entries, 0 to 14551\n",
      "Columns: 188 entries, 0 to 187\n",
      "dtypes: float64(188)\n",
      "memory usage: 20.9 MB\n"
     ]
    }
   ],
   "source": [
    "df.info()"
   ]
  },
  {
   "cell_type": "code",
   "execution_count": 26,
   "metadata": {},
   "outputs": [
    {
     "name": "stdout",
     "output_type": "stream",
     "text": [
      "187\n",
      "1.0    10506\n",
      "0.0     4046\n",
      "Name: count, dtype: int64\n"
     ]
    }
   ],
   "source": [
    "\n",
    "num = df[187].value_counts() #how many values are there for each class\n",
    "print(num)"
   ]
  },
  {
   "cell_type": "markdown",
   "metadata": {},
   "source": [
    "***Get a pie chart that explain every class with its perecentages in the training dataset***"
   ]
  },
  {
   "cell_type": "code",
   "execution_count": 28,
   "metadata": {},
   "outputs": [
    {
     "data": {
      "image/png": "[encoded data removed]",
      "text/plain": [
       "<Figure size 1000x600 with 1 Axes>"
      ]
     },
     "metadata": {},
     "output_type": "display_data"
    }
   ],
   "source": [
    "class_counts = df[187].value_counts() \n",
    "\n",
    "# Map numeric labels to names for the pie chart\n",
    "labels = [class_names[i] for i in class_counts.index]\n",
    "\n",
    "# Pie chart\n",
    "plt.figure(figsize=(10, 6))\n",
    "my_circle = plt.Circle((0, 0), 0.7, color='white')\n",
    "\n",
    "plt.pie(\n",
    "    class_counts, \n",
    "    labels=labels, \n",
    "    colors=['blue', 'green', 'yellow', 'skyblue', 'orange'], \n",
    "    autopct='%1.1f%%', \n",
    "    textprops={'color': 'black'}\n",
    ")\n",
    "\n",
    "# Add the white center\n",
    "p = plt.gcf()\n",
    "p.gca().add_artist(my_circle)\n",
    "\n",
    "plt.title(\"Class Distribution of Heartbeat Types\")\n",
    "plt.show()"
   ]
  },
  {
   "cell_type": "code",
   "execution_count": 36,
   "metadata": {},
   "outputs": [
    {
     "ename": "SyntaxError",
     "evalue": "unmatched ']' (3491350751.py, line 21)",
     "output_type": "error",
     "traceback": [
      "\u001b[1;36m  Cell \u001b[1;32mIn[36], line 21\u001b[1;36m\u001b[0m\n\u001b[1;33m    arget_column_index] = y_test\u001b[0m\n\u001b[1;37m                      ^\u001b[0m\n\u001b[1;31mSyntaxError\u001b[0m\u001b[1;31m:\u001b[0m unmatched ']'\n"
     ]
    }
   ],
   "source": [
    "\n",
    "# Assuming the target column is the last column\n",
    "target_column_index = 187\n",
    "\n",
    "class_labels = df[target_column_index].unique()\n",
    "print(\"My classes:\", class_labels)\n",
    "# Update features and target variable\n",
    "X = df.drop(columns=[187])\n",
    "y = df[187]\n",
    "\n",
    "# Split the dataset\n",
    "X_train, X_test, y_train, y_test = train_test_split(X, y, test_size=0.3, random_state=42)\n",
    "\n",
    "\n",
    "# Create separate DataFrames for training and validation with target included\n",
    "train_df = X_train.copy()\n",
    "train_df[target_column_index] = y_train\n",
    "\n",
    "test_df = X_test.copy()\n",
    "test_df[target_column_index] = y_test\n",
    "\n",
    "arget_column_index] = y_test\r\n"
   ]
  },
  {
   "cell_type": "code",
   "execution_count": null,
   "metadata": {},
   "outputs": [],
   "source": []
  },
  {
   "cell_type": "code",
   "execution_count": null,
   "metadata": {},
   "outputs": [],
   "source": []
  },
  {
   "cell_type": "code",
   "execution_count": null,
   "metadata": {},
   "outputs": [],
   "source": []
  },
  {
   "cell_type": "code",
   "execution_count": null,
   "metadata": {},
   "outputs": [],
   "source": []
  },
  {
   "cell_type": "code",
   "execution_count": null,
   "metadata": {},
   "outputs": [],
   "source": []
  },
  {
   "cell_type": "code",
   "execution_count": 14,
   "metadata": {},
   "outputs": [
    {
     "data": {
      "text/html": [
       "<div>\n",
       "<style scoped>\n",
       "    .dataframe tbody tr th:only-of-type {\n",
       "        vertical-align: middle;\n",
       "    }\n",
       "\n",
       "    .dataframe tbody tr th {\n",
       "        vertical-align: top;\n",
       "    }\n",
       "\n",
       "    .dataframe thead th {\n",
       "        text-align: right;\n",
       "    }\n",
       "</style>\n",
       "<table border=\"1\" class=\"dataframe\">\n",
       "  <thead>\n",
       "    <tr style=\"text-align: right;\">\n",
       "      <th></th>\n",
       "      <th>0</th>\n",
       "      <th>1</th>\n",
       "      <th>2</th>\n",
       "      <th>3</th>\n",
       "      <th>4</th>\n",
       "      <th>5</th>\n",
       "      <th>6</th>\n",
       "      <th>7</th>\n",
       "      <th>8</th>\n",
       "      <th>9</th>\n",
       "      <th>...</th>\n",
       "      <th>178</th>\n",
       "      <th>179</th>\n",
       "      <th>180</th>\n",
       "      <th>181</th>\n",
       "      <th>182</th>\n",
       "      <th>183</th>\n",
       "      <th>184</th>\n",
       "      <th>185</th>\n",
       "      <th>186</th>\n",
       "      <th>187</th>\n",
       "    </tr>\n",
       "  </thead>\n",
       "  <tbody>\n",
       "    <tr>\n",
       "      <th>count</th>\n",
       "      <td>87554.000000</td>\n",
       "      <td>87554.000000</td>\n",
       "      <td>87554.000000</td>\n",
       "      <td>87554.000000</td>\n",
       "      <td>87554.000000</td>\n",
       "      <td>87554.000000</td>\n",
       "      <td>87554.000000</td>\n",
       "      <td>87554.000000</td>\n",
       "      <td>87554.000000</td>\n",
       "      <td>87554.000000</td>\n",
       "      <td>...</td>\n",
       "      <td>87554.000000</td>\n",
       "      <td>87554.000000</td>\n",
       "      <td>87554.000000</td>\n",
       "      <td>87554.000000</td>\n",
       "      <td>87554.000000</td>\n",
       "      <td>87554.000000</td>\n",
       "      <td>87554.000000</td>\n",
       "      <td>87554.000000</td>\n",
       "      <td>87554.000000</td>\n",
       "      <td>87554.000000</td>\n",
       "    </tr>\n",
       "    <tr>\n",
       "      <th>mean</th>\n",
       "      <td>0.890360</td>\n",
       "      <td>0.758160</td>\n",
       "      <td>0.423972</td>\n",
       "      <td>0.219104</td>\n",
       "      <td>0.201127</td>\n",
       "      <td>0.210399</td>\n",
       "      <td>0.205808</td>\n",
       "      <td>0.201773</td>\n",
       "      <td>0.198691</td>\n",
       "      <td>0.196757</td>\n",
       "      <td>...</td>\n",
       "      <td>0.005025</td>\n",
       "      <td>0.004628</td>\n",
       "      <td>0.004291</td>\n",
       "      <td>0.003945</td>\n",
       "      <td>0.003681</td>\n",
       "      <td>0.003471</td>\n",
       "      <td>0.003221</td>\n",
       "      <td>0.002945</td>\n",
       "      <td>0.002807</td>\n",
       "      <td>0.473376</td>\n",
       "    </tr>\n",
       "    <tr>\n",
       "      <th>std</th>\n",
       "      <td>0.240909</td>\n",
       "      <td>0.221813</td>\n",
       "      <td>0.227305</td>\n",
       "      <td>0.206878</td>\n",
       "      <td>0.177058</td>\n",
       "      <td>0.171909</td>\n",
       "      <td>0.178481</td>\n",
       "      <td>0.177240</td>\n",
       "      <td>0.171778</td>\n",
       "      <td>0.168357</td>\n",
       "      <td>...</td>\n",
       "      <td>0.044154</td>\n",
       "      <td>0.042089</td>\n",
       "      <td>0.040525</td>\n",
       "      <td>0.038651</td>\n",
       "      <td>0.037193</td>\n",
       "      <td>0.036255</td>\n",
       "      <td>0.034789</td>\n",
       "      <td>0.032865</td>\n",
       "      <td>0.031924</td>\n",
       "      <td>1.143184</td>\n",
       "    </tr>\n",
       "    <tr>\n",
       "      <th>min</th>\n",
       "      <td>0.000000</td>\n",
       "      <td>0.000000</td>\n",
       "      <td>0.000000</td>\n",
       "      <td>0.000000</td>\n",
       "      <td>0.000000</td>\n",
       "      <td>0.000000</td>\n",
       "      <td>0.000000</td>\n",
       "      <td>0.000000</td>\n",
       "      <td>0.000000</td>\n",
       "      <td>0.000000</td>\n",
       "      <td>...</td>\n",
       "      <td>0.000000</td>\n",
       "      <td>0.000000</td>\n",
       "      <td>0.000000</td>\n",
       "      <td>0.000000</td>\n",
       "      <td>0.000000</td>\n",
       "      <td>0.000000</td>\n",
       "      <td>0.000000</td>\n",
       "      <td>0.000000</td>\n",
       "      <td>0.000000</td>\n",
       "      <td>0.000000</td>\n",
       "    </tr>\n",
       "    <tr>\n",
       "      <th>25%</th>\n",
       "      <td>0.921922</td>\n",
       "      <td>0.682486</td>\n",
       "      <td>0.250969</td>\n",
       "      <td>0.048458</td>\n",
       "      <td>0.082329</td>\n",
       "      <td>0.088416</td>\n",
       "      <td>0.073333</td>\n",
       "      <td>0.066116</td>\n",
       "      <td>0.065000</td>\n",
       "      <td>0.068639</td>\n",
       "      <td>...</td>\n",
       "      <td>0.000000</td>\n",
       "      <td>0.000000</td>\n",
       "      <td>0.000000</td>\n",
       "      <td>0.000000</td>\n",
       "      <td>0.000000</td>\n",
       "      <td>0.000000</td>\n",
       "      <td>0.000000</td>\n",
       "      <td>0.000000</td>\n",
       "      <td>0.000000</td>\n",
       "      <td>0.000000</td>\n",
       "    </tr>\n",
       "    <tr>\n",
       "      <th>50%</th>\n",
       "      <td>0.991342</td>\n",
       "      <td>0.826013</td>\n",
       "      <td>0.429472</td>\n",
       "      <td>0.166000</td>\n",
       "      <td>0.147878</td>\n",
       "      <td>0.158798</td>\n",
       "      <td>0.145324</td>\n",
       "      <td>0.144424</td>\n",
       "      <td>0.150000</td>\n",
       "      <td>0.148734</td>\n",
       "      <td>...</td>\n",
       "      <td>0.000000</td>\n",
       "      <td>0.000000</td>\n",
       "      <td>0.000000</td>\n",
       "      <td>0.000000</td>\n",
       "      <td>0.000000</td>\n",
       "      <td>0.000000</td>\n",
       "      <td>0.000000</td>\n",
       "      <td>0.000000</td>\n",
       "      <td>0.000000</td>\n",
       "      <td>0.000000</td>\n",
       "    </tr>\n",
       "    <tr>\n",
       "      <th>75%</th>\n",
       "      <td>1.000000</td>\n",
       "      <td>0.910506</td>\n",
       "      <td>0.578767</td>\n",
       "      <td>0.341727</td>\n",
       "      <td>0.258993</td>\n",
       "      <td>0.287628</td>\n",
       "      <td>0.298237</td>\n",
       "      <td>0.295391</td>\n",
       "      <td>0.290832</td>\n",
       "      <td>0.283636</td>\n",
       "      <td>...</td>\n",
       "      <td>0.000000</td>\n",
       "      <td>0.000000</td>\n",
       "      <td>0.000000</td>\n",
       "      <td>0.000000</td>\n",
       "      <td>0.000000</td>\n",
       "      <td>0.000000</td>\n",
       "      <td>0.000000</td>\n",
       "      <td>0.000000</td>\n",
       "      <td>0.000000</td>\n",
       "      <td>0.000000</td>\n",
       "    </tr>\n",
       "    <tr>\n",
       "      <th>max</th>\n",
       "      <td>1.000000</td>\n",
       "      <td>1.000000</td>\n",
       "      <td>1.000000</td>\n",
       "      <td>1.000000</td>\n",
       "      <td>1.000000</td>\n",
       "      <td>1.000000</td>\n",
       "      <td>1.000000</td>\n",
       "      <td>1.000000</td>\n",
       "      <td>1.000000</td>\n",
       "      <td>1.000000</td>\n",
       "      <td>...</td>\n",
       "      <td>1.000000</td>\n",
       "      <td>1.000000</td>\n",
       "      <td>1.000000</td>\n",
       "      <td>1.000000</td>\n",
       "      <td>1.000000</td>\n",
       "      <td>1.000000</td>\n",
       "      <td>1.000000</td>\n",
       "      <td>1.000000</td>\n",
       "      <td>1.000000</td>\n",
       "      <td>4.000000</td>\n",
       "    </tr>\n",
       "  </tbody>\n",
       "</table>\n",
       "<p>8 rows × 188 columns</p>\n",
       "</div>"
      ],
      "text/plain": [
       "                0             1             2             3             4    \\\n",
       "count  87554.000000  87554.000000  87554.000000  87554.000000  87554.000000   \n",
       "mean       0.890360      0.758160      0.423972      0.219104      0.201127   \n",
       "std        0.240909      0.221813      0.227305      0.206878      0.177058   \n",
       "min        0.000000      0.000000      0.000000      0.000000      0.000000   \n",
       "25%        0.921922      0.682486      0.250969      0.048458      0.082329   \n",
       "50%        0.991342      0.826013      0.429472      0.166000      0.147878   \n",
       "75%        1.000000      0.910506      0.578767      0.341727      0.258993   \n",
       "max        1.000000      1.000000      1.000000      1.000000      1.000000   \n",
       "\n",
       "                5             6             7             8             9    \\\n",
       "count  87554.000000  87554.000000  87554.000000  87554.000000  87554.000000   \n",
       "mean       0.210399      0.205808      0.201773      0.198691      0.196757   \n",
       "std        0.171909      0.178481      0.177240      0.171778      0.168357   \n",
       "min        0.000000      0.000000      0.000000      0.000000      0.000000   \n",
       "25%        0.088416      0.073333      0.066116      0.065000      0.068639   \n",
       "50%        0.158798      0.145324      0.144424      0.150000      0.148734   \n",
       "75%        0.287628      0.298237      0.295391      0.290832      0.283636   \n",
       "max        1.000000      1.000000      1.000000      1.000000      1.000000   \n",
       "\n",
       "       ...           178           179           180           181  \\\n",
       "count  ...  87554.000000  87554.000000  87554.000000  87554.000000   \n",
       "mean   ...      0.005025      0.004628      0.004291      0.003945   \n",
       "std    ...      0.044154      0.042089      0.040525      0.038651   \n",
       "min    ...      0.000000      0.000000      0.000000      0.000000   \n",
       "25%    ...      0.000000      0.000000      0.000000      0.000000   \n",
       "50%    ...      0.000000      0.000000      0.000000      0.000000   \n",
       "75%    ...      0.000000      0.000000      0.000000      0.000000   \n",
       "max    ...      1.000000      1.000000      1.000000      1.000000   \n",
       "\n",
       "                182           183           184           185           186  \\\n",
       "count  87554.000000  87554.000000  87554.000000  87554.000000  87554.000000   \n",
       "mean       0.003681      0.003471      0.003221      0.002945      0.002807   \n",
       "std        0.037193      0.036255      0.034789      0.032865      0.031924   \n",
       "min        0.000000      0.000000      0.000000      0.000000      0.000000   \n",
       "25%        0.000000      0.000000      0.000000      0.000000      0.000000   \n",
       "50%        0.000000      0.000000      0.000000      0.000000      0.000000   \n",
       "75%        0.000000      0.000000      0.000000      0.000000      0.000000   \n",
       "max        1.000000      1.000000      1.000000      1.000000      1.000000   \n",
       "\n",
       "                187  \n",
       "count  87554.000000  \n",
       "mean       0.473376  \n",
       "std        1.143184  \n",
       "min        0.000000  \n",
       "25%        0.000000  \n",
       "50%        0.000000  \n",
       "75%        0.000000  \n",
       "max        4.000000  \n",
       "\n",
       "[8 rows x 188 columns]"
      ]
     },
     "execution_count": 14,
     "metadata": {},
     "output_type": "execute_result"
    }
   ],
   "source": [
    "train_df.describe()"
   ]
  },
  {
   "cell_type": "markdown",
   "metadata": {},
   "source": [
    "***Get a pie chart that explain every class with its perecentages in the training dataset***"
   ]
  },
  {
   "cell_type": "code",
   "execution_count": 15,
   "metadata": {},
   "outputs": [
    {
     "data": {
      "image/png": "[encoded data removed]",
      "text/plain": [
       "<Figure size 2000x1000 with 1 Axes>"
      ]
     },
     "metadata": {},
     "output_type": "display_data"
    }
   ],
   "source": [
    "plt.figure(figsize=(20,10))\n",
    "my_circle=plt.Circle( (0,0), 0.7, color='white')\n",
    "plt.pie(equilibre, labels=['Normal Beats','Supraventricular Ectopy Beats','Ventricular Ectopy Beats','Fusion Beats','Unclassifiable Beats'], colors=['Blue','Green','Yellow','Skyblue','Orange'],autopct='%1.1f%%', textprops={'color': 'black'})\n",
    "p=plt.gcf()\n",
    "p.gca().add_artist(my_circle)\n",
    "plt.show()"
   ]
  },
  {
   "cell_type": "markdown",
   "metadata": {},
   "source": [
    "***Resample the training data to 20000 samples each class to make it more balance to work in it, because the normal beats class contains much more samples than the others and that could led for imbalance that in the model for an overfitting***"
   ]
  },
  {
   "cell_type": "code",
   "execution_count": 16,
   "metadata": {},
   "outputs": [],
   "source": [
    "df_1 = train_df[train_df[187] == 1]\n",
    "df_2 = train_df[train_df[187] == 2]\n",
    "df_3 = train_df[train_df[187] == 3]\n",
    "df_4 = train_df[train_df[187] == 4]"
   ]
  },
  {
   "cell_type": "code",
   "execution_count": 17,
   "metadata": {},
   "outputs": [],
   "source": [
    "from sklearn.utils import resample\n",
    "\n",
    "df_1_upsample = resample(df_1, n_samples = 20000, replace = True, random_state = 123)\n",
    "df_2_upsample = resample(df_2, n_samples = 20000, replace = True, random_state = 123)\n",
    "df_3_upsample = resample(df_3, n_samples = 20000, replace = True, random_state = 123)\n",
    "df_4_upsample = resample(df_4, n_samples = 20000, replace = True, random_state = 123)\n",
    "df_0 = train_df[train_df[187]==0].sample(n =20000, random_state=123)\n",
    "train_df = pd.concat([df_0, df_1_upsample, df_2_upsample, df_3_upsample, df_4_upsample])\n",
    "\n"
   ]
  },
  {
   "cell_type": "markdown",
   "metadata": {},
   "source": [
    "***Pie Chart shows the training dataset after resampling***"
   ]
  },
  {
   "cell_type": "code",
   "execution_count": 18,
   "metadata": {},
   "outputs": [
    {
     "data": {
      "image/png": "[encoded data removed]",
      "text/plain": [
       "<Figure size 1000x1000 with 1 Axes>"
      ]
     },
     "metadata": {},
     "output_type": "display_data"
    }
   ],
   "source": [
    "plt.figure(figsize= (10,10))\n",
    "my_circle = plt.Circle((0,0), 0.7, color = 'white') \n",
    "plt.pie(train_df[187].value_counts(), labels=['Normal Beats','Supraventricular Ectopy Beats','Ventricular Ectopy Beats','Fusion Beats','Unclassifiable Beats'], autopct = '%0.0f%%', colors = ['red','orange','blue','magenta','cyan'])\n",
    "p = plt.gcf()\n",
    "p.gca().add_artist(my_circle)\n",
    "plt.show()"
   ]
  },
  {
   "cell_type": "markdown",
   "metadata": {},
   "source": [
    "***Ensure of resampling our training dataset works***"
   ]
  },
  {
   "cell_type": "code",
   "execution_count": 19,
   "metadata": {},
   "outputs": [
    {
     "name": "stdout",
     "output_type": "stream",
     "text": [
      "187\n",
      "0.0    20000\n",
      "1.0    20000\n",
      "2.0    20000\n",
      "3.0    20000\n",
      "4.0    20000\n",
      "Name: count, dtype: int64\n",
      "5\n"
     ]
    }
   ],
   "source": [
    "print(train_df[187].value_counts())\n",
    "print(len(train_df[187].value_counts()))"
   ]
  },
  {
   "cell_type": "markdown",
   "metadata": {},
   "source": [
    "***Resample the testing data to 5000 samples each class to make it more balance to work in it, because the normal beats class contains much more samples than the others and that could led for imbalance that in the model for an overfitting***"
   ]
  },
  {
   "cell_type": "code",
   "execution_count": 20,
   "metadata": {},
   "outputs": [],
   "source": [
    "df_1_t = test_df[test_df[187] == 1]\n",
    "df_2_t = test_df[test_df[187] == 2]\n",
    "df_3_t = test_df[test_df[187] == 3]\n",
    "df_4_t = test_df[test_df[187] == 4]"
   ]
  },
  {
   "cell_type": "code",
   "execution_count": 21,
   "metadata": {},
   "outputs": [],
   "source": [
    "from sklearn.utils import resample\n",
    "\n",
    "df_1_upsample_t = resample(df_1, n_samples = 5000, replace = True, random_state = 123)\n",
    "df_2_upsample_t = resample(df_2, n_samples = 5000, replace = True, random_state = 123)\n",
    "df_3_upsample_t = resample(df_3, n_samples = 5000, replace = True, random_state = 123)\n",
    "df_4_upsample_t = resample(df_4, n_samples = 5000, replace = True, random_state = 123)\n",
    "df_0_t = test_df[test_df[187]==0].sample(n =5000, random_state=123)\n",
    "test_df = pd.concat([df_0_t, df_1_upsample_t, df_2_upsample_t, df_3_upsample_t, df_4_upsample_t])\n",
    "\n"
   ]
  },
  {
   "cell_type": "markdown",
   "metadata": {},
   "source": [
    "***Pie Chart shows the testing dataset after resampling***"
   ]
  },
  {
   "cell_type": "code",
   "execution_count": 22,
   "metadata": {},
   "outputs": [
    {
     "data": {
      "image/png": "[encoded data removed]",
      "text/plain": [
       "<Figure size 1000x1000 with 1 Axes>"
      ]
     },
     "metadata": {},
     "output_type": "display_data"
    }
   ],
   "source": [
    "plt.figure(figsize= (10,10))\n",
    "my_circle = plt.Circle((0,0), 0.7, color = 'white') \n",
    "plt.pie(test_df[187].value_counts(), labels=['Normal Beats','Supraventricular Ectopy Beats','Ventricular Ectopy Beats','Fusion Beats','Unclassifiable Beats'], autopct = '%0.0f%%', colors = ['red','orange','blue','magenta','cyan'])\n",
    "p = plt.gcf()\n",
    "p.gca().add_artist(my_circle)\n",
    "plt.show()"
   ]
  },
  {
   "cell_type": "markdown",
   "metadata": {},
   "source": [
    "# Preprocessing"
   ]
  },
  {
   "cell_type": "markdown",
   "metadata": {},
   "source": [
    "***With Last column (188) index -1, is the features that contains all classes, we split it into features and labels on the training dataset***"
   ]
  },
  {
   "cell_type": "code",
   "execution_count": 23,
   "metadata": {},
   "outputs": [],
   "source": [
    "X_train = train_df.drop(columns = [187])\n",
    "y_train = train_df[187]"
   ]
  },
  {
   "cell_type": "markdown",
   "metadata": {},
   "source": [
    "***Spliting the training dataset into train, valid for using them in machine and deep learning models, Using the testin dataset for separating into features and labels also, Use standard scaler function to normalize our training dataset and transform only on valid and test***"
   ]
  },
  {
   "cell_type": "code",
   "execution_count": 24,
   "metadata": {},
   "outputs": [
    {
     "name": "stdout",
     "output_type": "stream",
     "text": [
      "Before Normalization:\n",
      "            0         1         2         3         4         5         6    \\\n",
      "80646  1.000000  0.980880  0.600382  0.288719  0.181644  0.133843  0.114723   \n",
      "76808  0.000000  0.018006  0.056787  0.135734  0.218837  0.270083  0.326870   \n",
      "79759  0.000000  0.067395  0.131148  0.265938  0.404372  0.495446  0.557377   \n",
      "34449  1.000000  0.940141  0.753521  0.362676  0.154930  0.102113  0.070423   \n",
      "82406  0.845488  0.756490  0.653894  0.579728  0.489493  0.396786  0.307787   \n",
      "\n",
      "            7         8         9    ...  177  178  179  180  181  182  183  \\\n",
      "80646  0.091778  0.082218  0.070746  ...  0.0  0.0  0.0  0.0  0.0  0.0  0.0   \n",
      "76808  0.351801  0.405817  0.518006  ...  0.0  0.0  0.0  0.0  0.0  0.0  0.0   \n",
      "79759  0.615665  0.677596  0.744991  ...  0.0  0.0  0.0  0.0  0.0  0.0  0.0   \n",
      "34449  0.031690  0.007042  0.000000  ...  0.0  0.0  0.0  0.0  0.0  0.0  0.0   \n",
      "82406  0.228677  0.158220  0.122373  ...  0.0  0.0  0.0  0.0  0.0  0.0  0.0   \n",
      "\n",
      "       184  185  186  \n",
      "80646  0.0  0.0  0.0  \n",
      "76808  0.0  0.0  0.0  \n",
      "79759  0.0  0.0  0.0  \n",
      "34449  0.0  0.0  0.0  \n",
      "82406  0.0  0.0  0.0  \n",
      "\n",
      "[5 rows x 187 columns]\n",
      "After Normalization:\n",
      "[-0.63168238  0.02333511  1.1068417  ... -0.36334828 -0.47853169\n",
      " -0.54738713]\n"
     ]
    }
   ],
   "source": [
    "from sklearn.preprocessing import StandardScaler\n",
    "from sklearn.model_selection import train_test_split\n",
    "\n",
    "\n",
    "# Split the training data into training and validation sets\n",
    "X_train, X_valid, y_train, y_valid = train_test_split(X_train, y_train, test_size=0.2, random_state=42)\n",
    "\n",
    "# Separate features and target variable for test dataset\n",
    "X_test = test_df.drop(columns=[187])\n",
    "y_test = test_df[187]\n",
    "\n",
    "# Initialize the StandardScaler\n",
    "scaler = StandardScaler()\n",
    "\n",
    "# Fit the scaler to the training data and transform it\n",
    "X_train_normalized = scaler.fit_transform(X_train)\n",
    "# Transform the valid data using the fitted scaler\n",
    "X_valid_normalized = scaler.transform(X_valid)\n",
    "# Transform the test data using the fitted scaler\n",
    "X_test_normalized = scaler.transform(X_test)\n",
    "\n",
    "print(\"Before Normalization:\")\n",
    "print(X_train.head(5))\n",
    "\n",
    "print(\"After Normalization:\")\n",
    "print(X_train_normalized[:, 5])"
   ]
  },
  {
   "cell_type": "markdown",
   "metadata": {},
   "source": [
    "***Shows the first 5 rows in data***"
   ]
  },
  {
   "cell_type": "code",
   "execution_count": 25,
   "metadata": {},
   "outputs": [
    {
     "data": {
      "text/html": [
       "<div>\n",
       "<style scoped>\n",
       "    .dataframe tbody tr th:only-of-type {\n",
       "        vertical-align: middle;\n",
       "    }\n",
       "\n",
       "    .dataframe tbody tr th {\n",
       "        vertical-align: top;\n",
       "    }\n",
       "\n",
       "    .dataframe thead th {\n",
       "        text-align: right;\n",
       "    }\n",
       "</style>\n",
       "<table border=\"1\" class=\"dataframe\">\n",
       "  <thead>\n",
       "    <tr style=\"text-align: right;\">\n",
       "      <th></th>\n",
       "      <th>0</th>\n",
       "      <th>1</th>\n",
       "      <th>2</th>\n",
       "      <th>3</th>\n",
       "      <th>4</th>\n",
       "      <th>5</th>\n",
       "      <th>6</th>\n",
       "      <th>7</th>\n",
       "      <th>8</th>\n",
       "      <th>9</th>\n",
       "      <th>...</th>\n",
       "      <th>178</th>\n",
       "      <th>179</th>\n",
       "      <th>180</th>\n",
       "      <th>181</th>\n",
       "      <th>182</th>\n",
       "      <th>183</th>\n",
       "      <th>184</th>\n",
       "      <th>185</th>\n",
       "      <th>186</th>\n",
       "      <th>187</th>\n",
       "    </tr>\n",
       "  </thead>\n",
       "  <tbody>\n",
       "    <tr>\n",
       "      <th>14967</th>\n",
       "      <td>1.0</td>\n",
       "      <td>0.647702</td>\n",
       "      <td>0.039387</td>\n",
       "      <td>0.004376</td>\n",
       "      <td>0.102845</td>\n",
       "      <td>0.063457</td>\n",
       "      <td>0.067834</td>\n",
       "      <td>0.048140</td>\n",
       "      <td>0.045952</td>\n",
       "      <td>0.045952</td>\n",
       "      <td>...</td>\n",
       "      <td>0.0</td>\n",
       "      <td>0.0</td>\n",
       "      <td>0.0</td>\n",
       "      <td>0.0</td>\n",
       "      <td>0.0</td>\n",
       "      <td>0.0</td>\n",
       "      <td>0.0</td>\n",
       "      <td>0.0</td>\n",
       "      <td>0.0</td>\n",
       "      <td>0.0</td>\n",
       "    </tr>\n",
       "    <tr>\n",
       "      <th>71482</th>\n",
       "      <td>1.0</td>\n",
       "      <td>0.946619</td>\n",
       "      <td>0.651246</td>\n",
       "      <td>0.330961</td>\n",
       "      <td>0.000000</td>\n",
       "      <td>0.067616</td>\n",
       "      <td>0.092527</td>\n",
       "      <td>0.163701</td>\n",
       "      <td>0.192171</td>\n",
       "      <td>0.177936</td>\n",
       "      <td>...</td>\n",
       "      <td>0.0</td>\n",
       "      <td>0.0</td>\n",
       "      <td>0.0</td>\n",
       "      <td>0.0</td>\n",
       "      <td>0.0</td>\n",
       "      <td>0.0</td>\n",
       "      <td>0.0</td>\n",
       "      <td>0.0</td>\n",
       "      <td>0.0</td>\n",
       "      <td>0.0</td>\n",
       "    </tr>\n",
       "    <tr>\n",
       "      <th>23543</th>\n",
       "      <td>1.0</td>\n",
       "      <td>0.855967</td>\n",
       "      <td>0.302469</td>\n",
       "      <td>0.041152</td>\n",
       "      <td>0.185185</td>\n",
       "      <td>0.160494</td>\n",
       "      <td>0.098765</td>\n",
       "      <td>0.092593</td>\n",
       "      <td>0.109053</td>\n",
       "      <td>0.088477</td>\n",
       "      <td>...</td>\n",
       "      <td>0.0</td>\n",
       "      <td>0.0</td>\n",
       "      <td>0.0</td>\n",
       "      <td>0.0</td>\n",
       "      <td>0.0</td>\n",
       "      <td>0.0</td>\n",
       "      <td>0.0</td>\n",
       "      <td>0.0</td>\n",
       "      <td>0.0</td>\n",
       "      <td>0.0</td>\n",
       "    </tr>\n",
       "    <tr>\n",
       "      <th>9174</th>\n",
       "      <td>1.0</td>\n",
       "      <td>0.838806</td>\n",
       "      <td>0.738806</td>\n",
       "      <td>0.641791</td>\n",
       "      <td>0.604478</td>\n",
       "      <td>0.583582</td>\n",
       "      <td>0.580597</td>\n",
       "      <td>0.580597</td>\n",
       "      <td>0.591045</td>\n",
       "      <td>0.577612</td>\n",
       "      <td>...</td>\n",
       "      <td>0.0</td>\n",
       "      <td>0.0</td>\n",
       "      <td>0.0</td>\n",
       "      <td>0.0</td>\n",
       "      <td>0.0</td>\n",
       "      <td>0.0</td>\n",
       "      <td>0.0</td>\n",
       "      <td>0.0</td>\n",
       "      <td>0.0</td>\n",
       "      <td>0.0</td>\n",
       "    </tr>\n",
       "    <tr>\n",
       "      <th>42319</th>\n",
       "      <td>1.0</td>\n",
       "      <td>0.720257</td>\n",
       "      <td>0.019293</td>\n",
       "      <td>0.106109</td>\n",
       "      <td>0.073955</td>\n",
       "      <td>0.086817</td>\n",
       "      <td>0.070740</td>\n",
       "      <td>0.077170</td>\n",
       "      <td>0.070740</td>\n",
       "      <td>0.083601</td>\n",
       "      <td>...</td>\n",
       "      <td>0.0</td>\n",
       "      <td>0.0</td>\n",
       "      <td>0.0</td>\n",
       "      <td>0.0</td>\n",
       "      <td>0.0</td>\n",
       "      <td>0.0</td>\n",
       "      <td>0.0</td>\n",
       "      <td>0.0</td>\n",
       "      <td>0.0</td>\n",
       "      <td>0.0</td>\n",
       "    </tr>\n",
       "  </tbody>\n",
       "</table>\n",
       "<p>5 rows × 188 columns</p>\n",
       "</div>"
      ],
      "text/plain": [
       "       0         1         2         3         4         5         6    \\\n",
       "14967  1.0  0.647702  0.039387  0.004376  0.102845  0.063457  0.067834   \n",
       "71482  1.0  0.946619  0.651246  0.330961  0.000000  0.067616  0.092527   \n",
       "23543  1.0  0.855967  0.302469  0.041152  0.185185  0.160494  0.098765   \n",
       "9174   1.0  0.838806  0.738806  0.641791  0.604478  0.583582  0.580597   \n",
       "42319  1.0  0.720257  0.019293  0.106109  0.073955  0.086817  0.070740   \n",
       "\n",
       "            7         8         9    ...  178  179  180  181  182  183  184  \\\n",
       "14967  0.048140  0.045952  0.045952  ...  0.0  0.0  0.0  0.0  0.0  0.0  0.0   \n",
       "71482  0.163701  0.192171  0.177936  ...  0.0  0.0  0.0  0.0  0.0  0.0  0.0   \n",
       "23543  0.092593  0.109053  0.088477  ...  0.0  0.0  0.0  0.0  0.0  0.0  0.0   \n",
       "9174   0.580597  0.591045  0.577612  ...  0.0  0.0  0.0  0.0  0.0  0.0  0.0   \n",
       "42319  0.077170  0.070740  0.083601  ...  0.0  0.0  0.0  0.0  0.0  0.0  0.0   \n",
       "\n",
       "       185  186  187  \n",
       "14967  0.0  0.0  0.0  \n",
       "71482  0.0  0.0  0.0  \n",
       "23543  0.0  0.0  0.0  \n",
       "9174   0.0  0.0  0.0  \n",
       "42319  0.0  0.0  0.0  \n",
       "\n",
       "[5 rows x 188 columns]"
      ]
     },
     "execution_count": 25,
     "metadata": {},
     "output_type": "execute_result"
    }
   ],
   "source": [
    "train_df.head()"
   ]
  },
  {
   "cell_type": "markdown",
   "metadata": {},
   "source": [
    "***Printing the shape of the training dataset after resampling it***"
   ]
  },
  {
   "cell_type": "code",
   "execution_count": 26,
   "metadata": {},
   "outputs": [
    {
     "data": {
      "text/plain": [
       "(100000, 188)"
      ]
     },
     "execution_count": 26,
     "metadata": {},
     "output_type": "execute_result"
    }
   ],
   "source": [
    "train_df.shape"
   ]
  },
  {
   "cell_type": "markdown",
   "metadata": {},
   "source": [
    "***Printing the shape of the testing dataset after resampling it***"
   ]
  },
  {
   "cell_type": "code",
   "execution_count": 27,
   "metadata": {},
   "outputs": [
    {
     "data": {
      "text/plain": [
       "(25000, 188)"
      ]
     },
     "execution_count": 27,
     "metadata": {},
     "output_type": "execute_result"
    }
   ],
   "source": [
    "test_df.shape"
   ]
  },
  {
   "cell_type": "markdown",
   "metadata": {},
   "source": [
    "# Feedforward Neural Network (FNN) Model"
   ]
  },
  {
   "cell_type": "markdown",
   "metadata": {},
   "source": [
    "***Feedforward Neural Network, is a fundamental type of artificial neural network architecture characterized by the unidirectional flow of information, which is a basic model that contains an input, optional hidden, and output layers.***"
   ]
  },
  {
   "cell_type": "markdown",
   "metadata": {},
   "source": [
    "***We build the model and see its Architicture with an input and only one hidden layer and finally the output layer***"
   ]
  },
  {
   "cell_type": "code",
   "execution_count": 28,
   "metadata": {},
   "outputs": [
    {
     "name": "stderr",
     "output_type": "stream",
     "text": [
      "C:\\Users\\Hp\\AppData\\Local\\Programs\\Python\\Python312\\Lib\\site-packages\\keras\\src\\layers\\core\\dense.py:87: UserWarning: Do not pass an `input_shape`/`input_dim` argument to a layer. When using Sequential models, prefer using an `Input(shape)` object as the first layer in the model instead.\n",
      "  super().__init__(activity_regularizer=activity_regularizer, **kwargs)\n"
     ]
    },
    {
     "data": {
      "text/html": [
       "<pre style=\"white-space:pre;overflow-x:auto;line-height:normal;font-family:Menlo,'DejaVu Sans Mono',consolas,'Courier New',monospace\"><span style=\"font-weight: bold\">Model: \"sequential\"</span>\n",
       "</pre>\n"
      ],
      "text/plain": [
       "\u001b[1mModel: \"sequential\"\u001b[0m\n"
      ]
     },
     "metadata": {},
     "output_type": "display_data"
    },
    {
     "data": {
      "text/html": [
       "<pre style=\"white-space:pre;overflow-x:auto;line-height:normal;font-family:Menlo,'DejaVu Sans Mono',consolas,'Courier New',monospace\">┏━━━━━━━━━━━━━━━━━━━━━━━━━━━━━━━━━━━━━━┳━━━━━━━━━━━━━━━━━━━━━━━━━━━━━┳━━━━━━━━━━━━━━━━━┓\n",
       "┃<span style=\"font-weight: bold\"> Layer (type)                         </span>┃<span style=\"font-weight: bold\"> Output Shape                </span>┃<span style=\"font-weight: bold\">         Param # </span>┃\n",
       "┡━━━━━━━━━━━━━━━━━━━━━━━━━━━━━━━━━━━━━━╇━━━━━━━━━━━━━━━━━━━━━━━━━━━━━╇━━━━━━━━━━━━━━━━━┩\n",
       "│ dense (<span style=\"color: #0087ff; text-decoration-color: #0087ff\">Dense</span>)                        │ (<span style=\"color: #00d7ff; text-decoration-color: #00d7ff\">None</span>, <span style=\"color: #00af00; text-decoration-color: #00af00\">32</span>)                  │           <span style=\"color: #00af00; text-decoration-color: #00af00\">6,016</span> │\n",
       "├──────────────────────────────────────┼─────────────────────────────┼─────────────────┤\n",
       "│ dropout (<span style=\"color: #0087ff; text-decoration-color: #0087ff\">Dropout</span>)                    │ (<span style=\"color: #00d7ff; text-decoration-color: #00d7ff\">None</span>, <span style=\"color: #00af00; text-decoration-color: #00af00\">32</span>)                  │               <span style=\"color: #00af00; text-decoration-color: #00af00\">0</span> │\n",
       "├──────────────────────────────────────┼─────────────────────────────┼─────────────────┤\n",
       "│ dense_1 (<span style=\"color: #0087ff; text-decoration-color: #0087ff\">Dense</span>)                      │ (<span style=\"color: #00d7ff; text-decoration-color: #00d7ff\">None</span>, <span style=\"color: #00af00; text-decoration-color: #00af00\">64</span>)                  │           <span style=\"color: #00af00; text-decoration-color: #00af00\">2,112</span> │\n",
       "├──────────────────────────────────────┼─────────────────────────────┼─────────────────┤\n",
       "│ dropout_1 (<span style=\"color: #0087ff; text-decoration-color: #0087ff\">Dropout</span>)                  │ (<span style=\"color: #00d7ff; text-decoration-color: #00d7ff\">None</span>, <span style=\"color: #00af00; text-decoration-color: #00af00\">64</span>)                  │               <span style=\"color: #00af00; text-decoration-color: #00af00\">0</span> │\n",
       "├──────────────────────────────────────┼─────────────────────────────┼─────────────────┤\n",
       "│ dense_2 (<span style=\"color: #0087ff; text-decoration-color: #0087ff\">Dense</span>)                      │ (<span style=\"color: #00d7ff; text-decoration-color: #00d7ff\">None</span>, <span style=\"color: #00af00; text-decoration-color: #00af00\">5</span>)                   │             <span style=\"color: #00af00; text-decoration-color: #00af00\">325</span> │\n",
       "└──────────────────────────────────────┴─────────────────────────────┴─────────────────┘\n",
       "</pre>\n"
      ],
      "text/plain": [
       "┏━━━━━━━━━━━━━━━━━━━━━━━━━━━━━━━━━━━━━━┳━━━━━━━━━━━━━━━━━━━━━━━━━━━━━┳━━━━━━━━━━━━━━━━━┓\n",
       "┃\u001b[1m \u001b[0m\u001b[1mLayer (type)                        \u001b[0m\u001b[1m \u001b[0m┃\u001b[1m \u001b[0m\u001b[1mOutput Shape               \u001b[0m\u001b[1m \u001b[0m┃\u001b[1m \u001b[0m\u001b[1m        Param #\u001b[0m\u001b[1m \u001b[0m┃\n",
       "┡━━━━━━━━━━━━━━━━━━━━━━━━━━━━━━━━━━━━━━╇━━━━━━━━━━━━━━━━━━━━━━━━━━━━━╇━━━━━━━━━━━━━━━━━┩\n",
       "│ dense (\u001b[38;5;33mDense\u001b[0m)                        │ (\u001b[38;5;45mNone\u001b[0m, \u001b[38;5;34m32\u001b[0m)                  │           \u001b[38;5;34m6,016\u001b[0m │\n",
       "├──────────────────────────────────────┼─────────────────────────────┼─────────────────┤\n",
       "│ dropout (\u001b[38;5;33mDropout\u001b[0m)                    │ (\u001b[38;5;45mNone\u001b[0m, \u001b[38;5;34m32\u001b[0m)                  │               \u001b[38;5;34m0\u001b[0m │\n",
       "├──────────────────────────────────────┼─────────────────────────────┼─────────────────┤\n",
       "│ dense_1 (\u001b[38;5;33mDense\u001b[0m)                      │ (\u001b[38;5;45mNone\u001b[0m, \u001b[38;5;34m64\u001b[0m)                  │           \u001b[38;5;34m2,112\u001b[0m │\n",
       "├──────────────────────────────────────┼─────────────────────────────┼─────────────────┤\n",
       "│ dropout_1 (\u001b[38;5;33mDropout\u001b[0m)                  │ (\u001b[38;5;45mNone\u001b[0m, \u001b[38;5;34m64\u001b[0m)                  │               \u001b[38;5;34m0\u001b[0m │\n",
       "├──────────────────────────────────────┼─────────────────────────────┼─────────────────┤\n",
       "│ dense_2 (\u001b[38;5;33mDense\u001b[0m)                      │ (\u001b[38;5;45mNone\u001b[0m, \u001b[38;5;34m5\u001b[0m)                   │             \u001b[38;5;34m325\u001b[0m │\n",
       "└──────────────────────────────────────┴─────────────────────────────┴─────────────────┘\n"
      ]
     },
     "metadata": {},
     "output_type": "display_data"
    },
    {
     "data": {
      "text/html": [
       "<pre style=\"white-space:pre;overflow-x:auto;line-height:normal;font-family:Menlo,'DejaVu Sans Mono',consolas,'Courier New',monospace\"><span style=\"font-weight: bold\"> Total params: </span><span style=\"color: #00af00; text-decoration-color: #00af00\">8,453</span> (33.02 KB)\n",
       "</pre>\n"
      ],
      "text/plain": [
       "\u001b[1m Total params: \u001b[0m\u001b[38;5;34m8,453\u001b[0m (33.02 KB)\n"
      ]
     },
     "metadata": {},
     "output_type": "display_data"
    },
    {
     "data": {
      "text/html": [
       "<pre style=\"white-space:pre;overflow-x:auto;line-height:normal;font-family:Menlo,'DejaVu Sans Mono',consolas,'Courier New',monospace\"><span style=\"font-weight: bold\"> Trainable params: </span><span style=\"color: #00af00; text-decoration-color: #00af00\">8,453</span> (33.02 KB)\n",
       "</pre>\n"
      ],
      "text/plain": [
       "\u001b[1m Trainable params: \u001b[0m\u001b[38;5;34m8,453\u001b[0m (33.02 KB)\n"
      ]
     },
     "metadata": {},
     "output_type": "display_data"
    },
    {
     "data": {
      "text/html": [
       "<pre style=\"white-space:pre;overflow-x:auto;line-height:normal;font-family:Menlo,'DejaVu Sans Mono',consolas,'Courier New',monospace\"><span style=\"font-weight: bold\"> Non-trainable params: </span><span style=\"color: #00af00; text-decoration-color: #00af00\">0</span> (0.00 B)\n",
       "</pre>\n"
      ],
      "text/plain": [
       "\u001b[1m Non-trainable params: \u001b[0m\u001b[38;5;34m0\u001b[0m (0.00 B)\n"
      ]
     },
     "metadata": {},
     "output_type": "display_data"
    }
   ],
   "source": [
    "from keras.models import Sequential\n",
    "from keras.layers import Dense, Dropout, BatchNormalization\n",
    "from keras.callbacks import EarlyStopping\n",
    "\n",
    "# Create the FNN model\n",
    "FNN_model = Sequential()\n",
    "\n",
    "# Add the first hidden layer with input shape 187\n",
    "FNN_model.add(Dense(32, activation='relu', input_shape=(187,)))\n",
    "FNN_model.add(Dropout(0.3)) # Add dropout layer with dropout rate 0.5\n",
    "\n",
    "# Add the second hidden layer\n",
    "FNN_model.add(Dense(64, activation='relu'))\n",
    "FNN_model.add(Dropout(0.1)) # Add dropout layer with dropout rate 0.1\n",
    "\n",
    "\n",
    "# Add the output layer\n",
    "FNN_model.add(Dense(5, activation='softmax'))\n",
    "\n",
    "# Compile the model\n",
    "FNN_model.compile(optimizer='adam', loss='sparse_categorical_crossentropy', metrics=['accuracy'])\n",
    "\n",
    "# Define early stopping callback\n",
    "early_stopping = EarlyStopping(monitor='val_loss', patience=15, restore_best_weights=True)\n",
    "\n",
    "# Print the model summary\n",
    "FNN_model.summary()"
   ]
  },
  {
   "cell_type": "markdown",
   "metadata": {},
   "source": [
    "***By parameterizing and reach the best possible layers in the model we run the epochs which the number of iterations on our data to see its accuracy, loss.***"
   ]
  },
  {
   "cell_type": "code",
   "execution_count": 71,
   "metadata": {},
   "outputs": [
    {
     "name": "stdout",
     "output_type": "stream",
     "text": [
      "Epoch 1/120\n",
      "\u001b[1m625/625\u001b[0m \u001b[32m━━━━━━━━━━━━━━━━━━━━\u001b[0m\u001b[37m\u001b[0m \u001b[1m2s\u001b[0m 3ms/step - accuracy: 0.9196 - loss: 0.2190 - val_accuracy: 0.9556 - val_loss: 0.1313\n",
      "Epoch 2/120\n",
      "\u001b[1m625/625\u001b[0m \u001b[32m━━━━━━━━━━━━━━━━━━━━\u001b[0m\u001b[37m\u001b[0m \u001b[1m2s\u001b[0m 3ms/step - accuracy: 0.9174 - loss: 0.2234 - val_accuracy: 0.9585 - val_loss: 0.1305\n",
      "Epoch 3/120\n",
      "\u001b[1m625/625\u001b[0m \u001b[32m━━━━━━━━━━━━━━━━━━━━\u001b[0m\u001b[37m\u001b[0m \u001b[1m2s\u001b[0m 3ms/step - accuracy: 0.9200 - loss: 0.2199 - val_accuracy: 0.9588 - val_loss: 0.1273\n",
      "Epoch 4/120\n",
      "\u001b[1m625/625\u001b[0m \u001b[32m━━━━━━━━━━━━━━━━━━━━\u001b[0m\u001b[37m\u001b[0m \u001b[1m1s\u001b[0m 2ms/step - accuracy: 0.9240 - loss: 0.2093 - val_accuracy: 0.9589 - val_loss: 0.1262\n",
      "Epoch 5/120\n",
      "\u001b[1m625/625\u001b[0m \u001b[32m━━━━━━━━━━━━━━━━━━━━\u001b[0m\u001b[37m\u001b[0m \u001b[1m2s\u001b[0m 3ms/step - accuracy: 0.9207 - loss: 0.2134 - val_accuracy: 0.9584 - val_loss: 0.1293\n",
      "Epoch 6/120\n",
      "\u001b[1m625/625\u001b[0m \u001b[32m━━━━━━━━━━━━━━━━━━━━\u001b[0m\u001b[37m\u001b[0m \u001b[1m2s\u001b[0m 3ms/step - accuracy: 0.9197 - loss: 0.2164 - val_accuracy: 0.9618 - val_loss: 0.1233\n",
      "Epoch 7/120\n",
      "\u001b[1m625/625\u001b[0m \u001b[32m━━━━━━━━━━━━━━━━━━━━\u001b[0m\u001b[37m\u001b[0m \u001b[1m2s\u001b[0m 3ms/step - accuracy: 0.9202 - loss: 0.2168 - val_accuracy: 0.9586 - val_loss: 0.1279\n",
      "Epoch 8/120\n",
      "\u001b[1m625/625\u001b[0m \u001b[32m━━━━━━━━━━━━━━━━━━━━\u001b[0m\u001b[37m\u001b[0m \u001b[1m2s\u001b[0m 3ms/step - accuracy: 0.9217 - loss: 0.2104 - val_accuracy: 0.9609 - val_loss: 0.1260\n",
      "Epoch 9/120\n",
      "\u001b[1m625/625\u001b[0m \u001b[32m━━━━━━━━━━━━━━━━━━━━\u001b[0m\u001b[37m\u001b[0m \u001b[1m2s\u001b[0m 3ms/step - accuracy: 0.9210 - loss: 0.2134 - val_accuracy: 0.9601 - val_loss: 0.1250\n",
      "Epoch 10/120\n",
      "\u001b[1m625/625\u001b[0m \u001b[32m━━━━━━━━━━━━━━━━━━━━\u001b[0m\u001b[37m\u001b[0m \u001b[1m2s\u001b[0m 3ms/step - accuracy: 0.9210 - loss: 0.2164 - val_accuracy: 0.9590 - val_loss: 0.1261\n",
      "Epoch 11/120\n",
      "\u001b[1m625/625\u001b[0m \u001b[32m━━━━━━━━━━━━━━━━━━━━\u001b[0m\u001b[37m\u001b[0m \u001b[1m2s\u001b[0m 3ms/step - accuracy: 0.9206 - loss: 0.2145 - val_accuracy: 0.9597 - val_loss: 0.1257\n",
      "Epoch 12/120\n",
      "\u001b[1m625/625\u001b[0m \u001b[32m━━━━━━━━━━━━━━━━━━━━\u001b[0m\u001b[37m\u001b[0m \u001b[1m2s\u001b[0m 3ms/step - accuracy: 0.9227 - loss: 0.2119 - val_accuracy: 0.9604 - val_loss: 0.1212\n",
      "Epoch 13/120\n",
      "\u001b[1m625/625\u001b[0m \u001b[32m━━━━━━━━━━━━━━━━━━━━\u001b[0m\u001b[37m\u001b[0m \u001b[1m2s\u001b[0m 3ms/step - accuracy: 0.9235 - loss: 0.2081 - val_accuracy: 0.9614 - val_loss: 0.1230\n",
      "Epoch 14/120\n",
      "\u001b[1m625/625\u001b[0m \u001b[32m━━━━━━━━━━━━━━━━━━━━\u001b[0m\u001b[37m\u001b[0m \u001b[1m2s\u001b[0m 4ms/step - accuracy: 0.9237 - loss: 0.2085 - val_accuracy: 0.9586 - val_loss: 0.1324\n",
      "Epoch 15/120\n",
      "\u001b[1m625/625\u001b[0m \u001b[32m━━━━━━━━━━━━━━━━━━━━\u001b[0m\u001b[37m\u001b[0m \u001b[1m2s\u001b[0m 3ms/step - accuracy: 0.9232 - loss: 0.2114 - val_accuracy: 0.9600 - val_loss: 0.1258\n",
      "Epoch 16/120\n",
      "\u001b[1m625/625\u001b[0m \u001b[32m━━━━━━━━━━━━━━━━━━━━\u001b[0m\u001b[37m\u001b[0m \u001b[1m2s\u001b[0m 3ms/step - accuracy: 0.9208 - loss: 0.2150 - val_accuracy: 0.9597 - val_loss: 0.1248\n",
      "Epoch 17/120\n",
      "\u001b[1m625/625\u001b[0m \u001b[32m━━━━━━━━━━━━━━━━━━━━\u001b[0m\u001b[37m\u001b[0m \u001b[1m2s\u001b[0m 3ms/step - accuracy: 0.9205 - loss: 0.2139 - val_accuracy: 0.9588 - val_loss: 0.1261\n",
      "Epoch 18/120\n",
      "\u001b[1m625/625\u001b[0m \u001b[32m━━━━━━━━━━━━━━━━━━━━\u001b[0m\u001b[37m\u001b[0m \u001b[1m1s\u001b[0m 2ms/step - accuracy: 0.9220 - loss: 0.2109 - val_accuracy: 0.9590 - val_loss: 0.1250\n",
      "Epoch 19/120\n",
      "\u001b[1m625/625\u001b[0m \u001b[32m━━━━━━━━━━━━━━━━━━━━\u001b[0m\u001b[37m\u001b[0m \u001b[1m2s\u001b[0m 2ms/step - accuracy: 0.9216 - loss: 0.2125 - val_accuracy: 0.9588 - val_loss: 0.1269\n",
      "Epoch 20/120\n",
      "\u001b[1m625/625\u001b[0m \u001b[32m━━━━━━━━━━━━━━━━━━━━\u001b[0m\u001b[37m\u001b[0m \u001b[1m1s\u001b[0m 2ms/step - accuracy: 0.9195 - loss: 0.2164 - val_accuracy: 0.9590 - val_loss: 0.1264\n",
      "Epoch 21/120\n",
      "\u001b[1m625/625\u001b[0m \u001b[32m━━━━━━━━━━━━━━━━━━━━\u001b[0m\u001b[37m\u001b[0m \u001b[1m2s\u001b[0m 3ms/step - accuracy: 0.9235 - loss: 0.2107 - val_accuracy: 0.9614 - val_loss: 0.1254\n",
      "Epoch 22/120\n",
      "\u001b[1m625/625\u001b[0m \u001b[32m━━━━━━━━━━━━━━━━━━━━\u001b[0m\u001b[37m\u001b[0m \u001b[1m2s\u001b[0m 4ms/step - accuracy: 0.9203 - loss: 0.2201 - val_accuracy: 0.9611 - val_loss: 0.1234\n",
      "Epoch 23/120\n",
      "\u001b[1m625/625\u001b[0m \u001b[32m━━━━━━━━━━━━━━━━━━━━\u001b[0m\u001b[37m\u001b[0m \u001b[1m1s\u001b[0m 2ms/step - accuracy: 0.9235 - loss: 0.2074 - val_accuracy: 0.9607 - val_loss: 0.1227\n",
      "Epoch 24/120\n",
      "\u001b[1m625/625\u001b[0m \u001b[32m━━━━━━━━━━━━━━━━━━━━\u001b[0m\u001b[37m\u001b[0m \u001b[1m2s\u001b[0m 3ms/step - accuracy: 0.9222 - loss: 0.2138 - val_accuracy: 0.9613 - val_loss: 0.1256\n",
      "Epoch 25/120\n",
      "\u001b[1m625/625\u001b[0m \u001b[32m━━━━━━━━━━━━━━━━━━━━\u001b[0m\u001b[37m\u001b[0m \u001b[1m2s\u001b[0m 3ms/step - accuracy: 0.9223 - loss: 0.2095 - val_accuracy: 0.9618 - val_loss: 0.1244\n",
      "Epoch 26/120\n",
      "\u001b[1m625/625\u001b[0m \u001b[32m━━━━━━━━━━━━━━━━━━━━\u001b[0m\u001b[37m\u001b[0m \u001b[1m2s\u001b[0m 3ms/step - accuracy: 0.9216 - loss: 0.2105 - val_accuracy: 0.9602 - val_loss: 0.1246\n",
      "Epoch 27/120\n",
      "\u001b[1m625/625\u001b[0m \u001b[32m━━━━━━━━━━━━━━━━━━━━\u001b[0m\u001b[37m\u001b[0m \u001b[1m2s\u001b[0m 3ms/step - accuracy: 0.9218 - loss: 0.2099 - val_accuracy: 0.9592 - val_loss: 0.1276\n",
      "\u001b[1m625/625\u001b[0m \u001b[32m━━━━━━━━━━━━━━━━━━━━\u001b[0m\u001b[37m\u001b[0m \u001b[1m1s\u001b[0m 1ms/step - accuracy: 0.9606 - loss: 0.1199\n",
      "Validation Loss: 0.12118908762931824\n",
      "Validation Accuracy: 0.9603999853134155\n"
     ]
    }
   ],
   "source": [
    "# Fit the model\n",
    "history_FNN = FNN_model.fit(X_train_normalized, y_train,\n",
    "                    epochs=120,  # number of epochs\n",
    "                    batch_size=128,  # batch size\n",
    "                    validation_data=(X_valid_normalized, y_valid),\n",
    "                    callbacks=[early_stopping],\n",
    "                    verbose=1)\n",
    "\n",
    "# Evaluate the model\n",
    "loss, accuracy = FNN_model.evaluate(X_valid_normalized, y_valid)\n",
    "print(\"Validation Loss:\", loss)\n",
    "print(\"Validation Accuracy:\", accuracy)"
   ]
  },
  {
   "cell_type": "code",
   "execution_count": 64,
   "metadata": {},
   "outputs": [
    {
     "name": "stdout",
     "output_type": "stream",
     "text": [
      "\u001b[1m782/782\u001b[0m \u001b[32m━━━━━━━━━━━━━━━━━━━━\u001b[0m\u001b[37m\u001b[0m \u001b[1m2s\u001b[0m 3ms/step - accuracy: 0.9361 - loss: 0.1799\n",
      "test Loss: 0.11917314678430557\n",
      "test Accuracy: 0.960919976234436\n"
     ]
    }
   ],
   "source": [
    "\n",
    "\n",
    "loss_test, accuracy_test = FNN_model.evaluate(X_test_normalized, y_test)\n",
    "print(\"test Loss:\", loss_test)\n",
    "print(\"test Accuracy:\", accuracy_test)"
   ]
  },
  {
   "cell_type": "markdown",
   "metadata": {},
   "source": [
    "***Visualize our Training, Valid accuracies and loss***"
   ]
  },
  {
   "cell_type": "code",
   "execution_count": 65,
   "metadata": {},
   "outputs": [
    {
     "data": {
      "image/png": "[encoded data removed]",
      "text/plain": [
       "<Figure size 1200x600 with 2 Axes>"
      ]
     },
     "metadata": {},
     "output_type": "display_data"
    }
   ],
   "source": [
    "import matplotlib.pyplot as plt\n",
    "\n",
    "# Plot training history\n",
    "plt.figure(figsize=(12, 6))\n",
    "\n",
    "# Plot accuracy\n",
    "plt.subplot(1, 2, 1)\n",
    "plt.plot(history_FNN.history['accuracy'], label='Training Accuracy')\n",
    "plt.plot(history_FNN.history['val_accuracy'], label='Validation Accuracy')\n",
    "plt.xlabel('Epochs')\n",
    "plt.ylabel('Accuracy')\n",
    "plt.title('Training and Validation Accuracy')\n",
    "plt.legend()\n",
    "\n",
    "# Plot loss\n",
    "plt.subplot(1, 2, 2)\n",
    "plt.plot(history_FNN.history['loss'], label='Training Loss')\n",
    "plt.plot(history_FNN.history['val_loss'], label='Validation Loss')\n",
    "plt.xlabel('Epochs')\n",
    "plt.ylabel('Loss')\n",
    "plt.title('Training and Validation Loss')\n",
    "plt.legend()\n",
    "\n",
    "plt.tight_layout()\n",
    "plt.show()"
   ]
  },
  {
   "cell_type": "markdown",
   "metadata": {},
   "source": [
    "***Reshapes the true labels (y_test) into a 2D array suitable for the OneHotEncoder, converts the encoded labels back to single integer labels by taking the index of the maximum value along axis 1, and evaluating model's performance by visualizing how well it classified the test data using a confusion matrix. The heatmap with annotations allows you to see how many data points from each true class were correctly predicted as each class by the model.***"
   ]
  },
  {
   "cell_type": "code",
   "execution_count": 25,
   "metadata": {},
   "outputs": [
    {
     "ename": "NameError",
     "evalue": "name 'FNN_model' is not defined",
     "output_type": "error",
     "traceback": [
      "\u001b[1;31m---------------------------------------------------------------------------\u001b[0m",
      "\u001b[1;31mNameError\u001b[0m                                 Traceback (most recent call last)",
      "Cell \u001b[1;32mIn[25], line 8\u001b[0m\n\u001b[0;32m      5\u001b[0m \u001b[38;5;28;01mimport\u001b[39;00m \u001b[38;5;21;01mmatplotlib\u001b[39;00m\u001b[38;5;21;01m.\u001b[39;00m\u001b[38;5;21;01mpyplot\u001b[39;00m \u001b[38;5;28;01mas\u001b[39;00m \u001b[38;5;21;01mplt\u001b[39;00m\n\u001b[0;32m      7\u001b[0m \u001b[38;5;66;03m# Make predictions on the test data\u001b[39;00m\n\u001b[1;32m----> 8\u001b[0m y_pred_test_prob \u001b[38;5;241m=\u001b[39m \u001b[43mFNN_model\u001b[49m\u001b[38;5;241m.\u001b[39mpredict(X_test_normalized)\n\u001b[0;32m      9\u001b[0m y_pred_test_classes \u001b[38;5;241m=\u001b[39m np\u001b[38;5;241m.\u001b[39margmax(y_pred_test_prob, axis\u001b[38;5;241m=\u001b[39m\u001b[38;5;241m1\u001b[39m)  \u001b[38;5;66;03m# Convert probabilities to class labels\u001b[39;00m\n\u001b[0;32m     11\u001b[0m \u001b[38;5;66;03m# Initialize OneHotEncoder with updated argument\u001b[39;00m\n",
      "\u001b[1;31mNameError\u001b[0m: name 'FNN_model' is not defined"
     ]
    }
   ],
   "source": [
    "from sklearn.metrics import confusion_matrix\n",
    "from sklearn.preprocessing import OneHotEncoder\n",
    "import numpy as np\n",
    "import seaborn as sns\n",
    "import matplotlib.pyplot as plt\n",
    "\n",
    "# Make predictions on the test data\n",
    "y_pred_test_prob = FNN_model.predict(X_test_normalized)\n",
    "y_pred_test_classes = np.argmax(y_pred_test_prob, axis=1)  # Convert probabilities to class labels\n",
    "\n",
    "# Initialize OneHotEncoder with updated argument\n",
    "encoder = OneHotEncoder(sparse_output=False)\n",
    "\n",
    "# Reshape y_test to a 2D array (required by OneHotEncoder)\n",
    "y_test_reshaped = y_test.to_numpy().reshape(-1, 1)\n",
    "\n",
    "# Fit and transform y_test to one-hot encoded format\n",
    "y_test_onehot = encoder.fit_transform(y_test_reshaped)\n",
    "\n",
    "# Convert one-hot encoded labels to single integer labels for y_test\n",
    "y_test_classes = np.argmax(y_test_onehot, axis=1)\n",
    "\n",
    "# Compute confusion matrix\n",
    "conf_matrix = confusion_matrix(y_test_classes, y_pred_test_classes)\n",
    "\n",
    "# Plot confusion matrix\n",
    "plt.figure(figsize=(10, 8))\n",
    "sns.heatmap(conf_matrix, annot=True, fmt=\"d\", cmap=\"Blues\", cbar=False)\n",
    "plt.title(\"Confusion Matrix for Test Data\")\n",
    "plt.xlabel(\"Predicted Label\")\n",
    "plt.ylabel(\"True Label\")\n",
    "plt.show()\n"
   ]
  },
  {
   "cell_type": "markdown",
   "metadata": {},
   "source": [
    "***Visualizing it but with perecentages***"
   ]
  },
  {
   "cell_type": "code",
   "execution_count": 67,
   "metadata": {},
   "outputs": [
    {
     "data": {
      "image/png": "[encoded data removed]",
      "text/plain": [
       "<Figure size 1000x800 with 1 Axes>"
      ]
     },
     "metadata": {},
     "output_type": "display_data"
    }
   ],
   "source": [
    "import matplotlib.pyplot as plt\n",
    "import seaborn as sns\n",
    "\n",
    "# Compute confusion matrix as before\n",
    "conf_matrix = confusion_matrix(y_test_classes, y_pred_test_classes)\n",
    "\n",
    "# Compute percentages\n",
    "conf_matrix_percent = conf_matrix.astype('float') / conf_matrix.sum(axis=1)[:, np.newaxis]\n",
    "\n",
    "# Plot confusion matrix with percentages\n",
    "plt.figure(figsize=(10, 8))\n",
    "sns.heatmap(conf_matrix_percent, annot=True, fmt=\".2%\", cmap=\"Blues\", cbar=False)\n",
    "plt.title(\"Confusion Matrix for Test Data\")\n",
    "plt.xlabel(\"Predicted Label\")\n",
    "plt.ylabel(\"True Label\")\n",
    "plt.show()"
   ]
  },
  {
   "cell_type": "code",
   "execution_count": 68,
   "metadata": {},
   "outputs": [
    {
     "name": "stdout",
     "output_type": "stream",
     "text": [
      "Confusion Matrix for Test Data:\n",
      "[[4561  210  104  107   18]\n",
      " [ 203 4763   16   13    5]\n",
      " [  98   21 4776   96    9]\n",
      " [   5    0    0 4995    0]\n",
      " [  38    9   22    3 4928]]\n"
     ]
    }
   ],
   "source": [
    "from sklearn.metrics import confusion_matrix\n",
    "\n",
    "# Compute confusion matrix\n",
    "conf_matrix = confusion_matrix(y_test_classes, y_pred_test_classes)\n",
    "\n",
    "# Print confusion matrix\n",
    "print(\"Confusion Matrix for Test Data:\")\n",
    "print(conf_matrix)\n"
   ]
  },
  {
   "cell_type": "markdown",
   "metadata": {},
   "source": [
    "***Getting the test accuracy with higher test accuracy because of the normal beats class that has the most more samples than the others***"
   ]
  },
  {
   "cell_type": "code",
   "execution_count": 69,
   "metadata": {},
   "outputs": [
    {
     "name": "stdout",
     "output_type": "stream",
     "text": [
      "Test Accuracy: 0.96\n"
     ]
    }
   ],
   "source": [
    "from sklearn.metrics import accuracy_score\n",
    "\n",
    "# Compute accuracy\n",
    "test_accuracy = accuracy_score(y_test_classes, y_pred_test_classes)\n",
    "\n",
    "# Print test accuracy\n",
    "print(f\"Test Accuracy: {test_accuracy:.2f}\")\n"
   ]
  },
  {
   "cell_type": "markdown",
   "metadata": {},
   "source": [
    "***Getting the precision, accuracy, recall, f1-score***"
   ]
  },
  {
   "cell_type": "code",
   "execution_count": 70,
   "metadata": {},
   "outputs": [
    {
     "name": "stdout",
     "output_type": "stream",
     "text": [
      "Accuracy: 0.96\n",
      "Precision: 0.96\n",
      "Recall: 0.96\n",
      "F1-score: 0.96\n"
     ]
    }
   ],
   "source": [
    "from sklearn.metrics import accuracy_score, precision_score, recall_score, f1_score\n",
    "\n",
    "def evaluate_model(y_test_classes, y_pred_test_classes):\n",
    "    accuracy = accuracy_score(y_test_classes, y_pred_test_classes)\n",
    "    precision = precision_score(y_test_classes, y_pred_test_classes, average='micro')\n",
    "    recall = recall_score(y_test_classes, y_pred_test_classes, average='micro')\n",
    "    f1 = f1_score(y_test_classes, y_pred_test_classes, average='micro')\n",
    "    \n",
    "    print(f\"Accuracy: {accuracy:.2f}\")\n",
    "    print(f\"Precision: {precision:.2f}\")\n",
    "    print(f\"Recall: {recall:.2f}\")\n",
    "    print(f\"F1-score: {f1:.2f}\")\n",
    "\n",
    "# Example usage:\n",
    "evaluate_model(y_test_classes, y_pred_test_classes)\n"
   ]
  },
  {
   "cell_type": "code",
   "execution_count": 29,
   "metadata": {},
   "outputs": [
    {
     "name": "stderr",
     "output_type": "stream",
     "text": [
      "C:\\Users\\Hp\\AppData\\Local\\Programs\\Python\\Python312\\Lib\\site-packages\\keras\\src\\layers\\convolutional\\base_conv.py:107: UserWarning: Do not pass an `input_shape`/`input_dim` argument to a layer. When using Sequential models, prefer using an `Input(shape)` object as the first layer in the model instead.\n",
      "  super().__init__(activity_regularizer=activity_regularizer, **kwargs)\n"
     ]
    },
    {
     "data": {
      "text/html": [
       "<pre style=\"white-space:pre;overflow-x:auto;line-height:normal;font-family:Menlo,'DejaVu Sans Mono',consolas,'Courier New',monospace\"><span style=\"font-weight: bold\">Model: \"sequential_1\"</span>\n",
       "</pre>\n"
      ],
      "text/plain": [
       "\u001b[1mModel: \"sequential_1\"\u001b[0m\n"
      ]
     },
     "metadata": {},
     "output_type": "display_data"
    },
    {
     "data": {
      "text/html": [
       "<pre style=\"white-space:pre;overflow-x:auto;line-height:normal;font-family:Menlo,'DejaVu Sans Mono',consolas,'Courier New',monospace\">┏━━━━━━━━━━━━━━━━━━━━━━━━━━━━━━━━━━━━━━┳━━━━━━━━━━━━━━━━━━━━━━━━━━━━━┳━━━━━━━━━━━━━━━━━┓\n",
       "┃<span style=\"font-weight: bold\"> Layer (type)                         </span>┃<span style=\"font-weight: bold\"> Output Shape                </span>┃<span style=\"font-weight: bold\">         Param # </span>┃\n",
       "┡━━━━━━━━━━━━━━━━━━━━━━━━━━━━━━━━━━━━━━╇━━━━━━━━━━━━━━━━━━━━━━━━━━━━━╇━━━━━━━━━━━━━━━━━┩\n",
       "│ conv1d (<span style=\"color: #0087ff; text-decoration-color: #0087ff\">Conv1D</span>)                      │ (<span style=\"color: #00d7ff; text-decoration-color: #00d7ff\">None</span>, <span style=\"color: #00af00; text-decoration-color: #00af00\">187</span>, <span style=\"color: #00af00; text-decoration-color: #00af00\">32</span>)             │             <span style=\"color: #00af00; text-decoration-color: #00af00\">192</span> │\n",
       "├──────────────────────────────────────┼─────────────────────────────┼─────────────────┤\n",
       "│ max_pooling1d (<span style=\"color: #0087ff; text-decoration-color: #0087ff\">MaxPooling1D</span>)         │ (<span style=\"color: #00d7ff; text-decoration-color: #00d7ff\">None</span>, <span style=\"color: #00af00; text-decoration-color: #00af00\">93</span>, <span style=\"color: #00af00; text-decoration-color: #00af00\">32</span>)              │               <span style=\"color: #00af00; text-decoration-color: #00af00\">0</span> │\n",
       "├──────────────────────────────────────┼─────────────────────────────┼─────────────────┤\n",
       "│ conv1d_1 (<span style=\"color: #0087ff; text-decoration-color: #0087ff\">Conv1D</span>)                    │ (<span style=\"color: #00d7ff; text-decoration-color: #00d7ff\">None</span>, <span style=\"color: #00af00; text-decoration-color: #00af00\">93</span>, <span style=\"color: #00af00; text-decoration-color: #00af00\">16</span>)              │           <span style=\"color: #00af00; text-decoration-color: #00af00\">1,552</span> │\n",
       "├──────────────────────────────────────┼─────────────────────────────┼─────────────────┤\n",
       "│ max_pooling1d_1 (<span style=\"color: #0087ff; text-decoration-color: #0087ff\">MaxPooling1D</span>)       │ (<span style=\"color: #00d7ff; text-decoration-color: #00d7ff\">None</span>, <span style=\"color: #00af00; text-decoration-color: #00af00\">46</span>, <span style=\"color: #00af00; text-decoration-color: #00af00\">16</span>)              │               <span style=\"color: #00af00; text-decoration-color: #00af00\">0</span> │\n",
       "├──────────────────────────────────────┼─────────────────────────────┼─────────────────┤\n",
       "│ conv1d_2 (<span style=\"color: #0087ff; text-decoration-color: #0087ff\">Conv1D</span>)                    │ (<span style=\"color: #00d7ff; text-decoration-color: #00d7ff\">None</span>, <span style=\"color: #00af00; text-decoration-color: #00af00\">46</span>, <span style=\"color: #00af00; text-decoration-color: #00af00\">16</span>)              │           <span style=\"color: #00af00; text-decoration-color: #00af00\">1,296</span> │\n",
       "├──────────────────────────────────────┼─────────────────────────────┼─────────────────┤\n",
       "│ max_pooling1d_2 (<span style=\"color: #0087ff; text-decoration-color: #0087ff\">MaxPooling1D</span>)       │ (<span style=\"color: #00d7ff; text-decoration-color: #00d7ff\">None</span>, <span style=\"color: #00af00; text-decoration-color: #00af00\">23</span>, <span style=\"color: #00af00; text-decoration-color: #00af00\">16</span>)              │               <span style=\"color: #00af00; text-decoration-color: #00af00\">0</span> │\n",
       "├──────────────────────────────────────┼─────────────────────────────┼─────────────────┤\n",
       "│ conv1d_3 (<span style=\"color: #0087ff; text-decoration-color: #0087ff\">Conv1D</span>)                    │ (<span style=\"color: #00d7ff; text-decoration-color: #00d7ff\">None</span>, <span style=\"color: #00af00; text-decoration-color: #00af00\">23</span>, <span style=\"color: #00af00; text-decoration-color: #00af00\">16</span>)              │             <span style=\"color: #00af00; text-decoration-color: #00af00\">784</span> │\n",
       "├──────────────────────────────────────┼─────────────────────────────┼─────────────────┤\n",
       "│ max_pooling1d_3 (<span style=\"color: #0087ff; text-decoration-color: #0087ff\">MaxPooling1D</span>)       │ (<span style=\"color: #00d7ff; text-decoration-color: #00d7ff\">None</span>, <span style=\"color: #00af00; text-decoration-color: #00af00\">11</span>, <span style=\"color: #00af00; text-decoration-color: #00af00\">16</span>)              │               <span style=\"color: #00af00; text-decoration-color: #00af00\">0</span> │\n",
       "├──────────────────────────────────────┼─────────────────────────────┼─────────────────┤\n",
       "│ max_pooling1d_4 (<span style=\"color: #0087ff; text-decoration-color: #0087ff\">MaxPooling1D</span>)       │ (<span style=\"color: #00d7ff; text-decoration-color: #00d7ff\">None</span>, <span style=\"color: #00af00; text-decoration-color: #00af00\">5</span>, <span style=\"color: #00af00; text-decoration-color: #00af00\">16</span>)               │               <span style=\"color: #00af00; text-decoration-color: #00af00\">0</span> │\n",
       "├──────────────────────────────────────┼─────────────────────────────┼─────────────────┤\n",
       "│ flatten (<span style=\"color: #0087ff; text-decoration-color: #0087ff\">Flatten</span>)                    │ (<span style=\"color: #00d7ff; text-decoration-color: #00d7ff\">None</span>, <span style=\"color: #00af00; text-decoration-color: #00af00\">80</span>)                  │               <span style=\"color: #00af00; text-decoration-color: #00af00\">0</span> │\n",
       "├──────────────────────────────────────┼─────────────────────────────┼─────────────────┤\n",
       "│ dense_3 (<span style=\"color: #0087ff; text-decoration-color: #0087ff\">Dense</span>)                      │ (<span style=\"color: #00d7ff; text-decoration-color: #00d7ff\">None</span>, <span style=\"color: #00af00; text-decoration-color: #00af00\">32</span>)                  │           <span style=\"color: #00af00; text-decoration-color: #00af00\">2,592</span> │\n",
       "├──────────────────────────────────────┼─────────────────────────────┼─────────────────┤\n",
       "│ dense_4 (<span style=\"color: #0087ff; text-decoration-color: #0087ff\">Dense</span>)                      │ (<span style=\"color: #00d7ff; text-decoration-color: #00d7ff\">None</span>, <span style=\"color: #00af00; text-decoration-color: #00af00\">5</span>)                   │             <span style=\"color: #00af00; text-decoration-color: #00af00\">165</span> │\n",
       "└──────────────────────────────────────┴─────────────────────────────┴─────────────────┘\n",
       "</pre>\n"
      ],
      "text/plain": [
       "┏━━━━━━━━━━━━━━━━━━━━━━━━━━━━━━━━━━━━━━┳━━━━━━━━━━━━━━━━━━━━━━━━━━━━━┳━━━━━━━━━━━━━━━━━┓\n",
       "┃\u001b[1m \u001b[0m\u001b[1mLayer (type)                        \u001b[0m\u001b[1m \u001b[0m┃\u001b[1m \u001b[0m\u001b[1mOutput Shape               \u001b[0m\u001b[1m \u001b[0m┃\u001b[1m \u001b[0m\u001b[1m        Param #\u001b[0m\u001b[1m \u001b[0m┃\n",
       "┡━━━━━━━━━━━━━━━━━━━━━━━━━━━━━━━━━━━━━━╇━━━━━━━━━━━━━━━━━━━━━━━━━━━━━╇━━━━━━━━━━━━━━━━━┩\n",
       "│ conv1d (\u001b[38;5;33mConv1D\u001b[0m)                      │ (\u001b[38;5;45mNone\u001b[0m, \u001b[38;5;34m187\u001b[0m, \u001b[38;5;34m32\u001b[0m)             │             \u001b[38;5;34m192\u001b[0m │\n",
       "├──────────────────────────────────────┼─────────────────────────────┼─────────────────┤\n",
       "│ max_pooling1d (\u001b[38;5;33mMaxPooling1D\u001b[0m)         │ (\u001b[38;5;45mNone\u001b[0m, \u001b[38;5;34m93\u001b[0m, \u001b[38;5;34m32\u001b[0m)              │               \u001b[38;5;34m0\u001b[0m │\n",
       "├──────────────────────────────────────┼─────────────────────────────┼─────────────────┤\n",
       "│ conv1d_1 (\u001b[38;5;33mConv1D\u001b[0m)                    │ (\u001b[38;5;45mNone\u001b[0m, \u001b[38;5;34m93\u001b[0m, \u001b[38;5;34m16\u001b[0m)              │           \u001b[38;5;34m1,552\u001b[0m │\n",
       "├──────────────────────────────────────┼─────────────────────────────┼─────────────────┤\n",
       "│ max_pooling1d_1 (\u001b[38;5;33mMaxPooling1D\u001b[0m)       │ (\u001b[38;5;45mNone\u001b[0m, \u001b[38;5;34m46\u001b[0m, \u001b[38;5;34m16\u001b[0m)              │               \u001b[38;5;34m0\u001b[0m │\n",
       "├──────────────────────────────────────┼─────────────────────────────┼─────────────────┤\n",
       "│ conv1d_2 (\u001b[38;5;33mConv1D\u001b[0m)                    │ (\u001b[38;5;45mNone\u001b[0m, \u001b[38;5;34m46\u001b[0m, \u001b[38;5;34m16\u001b[0m)              │           \u001b[38;5;34m1,296\u001b[0m │\n",
       "├──────────────────────────────────────┼─────────────────────────────┼─────────────────┤\n",
       "│ max_pooling1d_2 (\u001b[38;5;33mMaxPooling1D\u001b[0m)       │ (\u001b[38;5;45mNone\u001b[0m, \u001b[38;5;34m23\u001b[0m, \u001b[38;5;34m16\u001b[0m)              │               \u001b[38;5;34m0\u001b[0m │\n",
       "├──────────────────────────────────────┼─────────────────────────────┼─────────────────┤\n",
       "│ conv1d_3 (\u001b[38;5;33mConv1D\u001b[0m)                    │ (\u001b[38;5;45mNone\u001b[0m, \u001b[38;5;34m23\u001b[0m, \u001b[38;5;34m16\u001b[0m)              │             \u001b[38;5;34m784\u001b[0m │\n",
       "├──────────────────────────────────────┼─────────────────────────────┼─────────────────┤\n",
       "│ max_pooling1d_3 (\u001b[38;5;33mMaxPooling1D\u001b[0m)       │ (\u001b[38;5;45mNone\u001b[0m, \u001b[38;5;34m11\u001b[0m, \u001b[38;5;34m16\u001b[0m)              │               \u001b[38;5;34m0\u001b[0m │\n",
       "├──────────────────────────────────────┼─────────────────────────────┼─────────────────┤\n",
       "│ max_pooling1d_4 (\u001b[38;5;33mMaxPooling1D\u001b[0m)       │ (\u001b[38;5;45mNone\u001b[0m, \u001b[38;5;34m5\u001b[0m, \u001b[38;5;34m16\u001b[0m)               │               \u001b[38;5;34m0\u001b[0m │\n",
       "├──────────────────────────────────────┼─────────────────────────────┼─────────────────┤\n",
       "│ flatten (\u001b[38;5;33mFlatten\u001b[0m)                    │ (\u001b[38;5;45mNone\u001b[0m, \u001b[38;5;34m80\u001b[0m)                  │               \u001b[38;5;34m0\u001b[0m │\n",
       "├──────────────────────────────────────┼─────────────────────────────┼─────────────────┤\n",
       "│ dense_3 (\u001b[38;5;33mDense\u001b[0m)                      │ (\u001b[38;5;45mNone\u001b[0m, \u001b[38;5;34m32\u001b[0m)                  │           \u001b[38;5;34m2,592\u001b[0m │\n",
       "├──────────────────────────────────────┼─────────────────────────────┼─────────────────┤\n",
       "│ dense_4 (\u001b[38;5;33mDense\u001b[0m)                      │ (\u001b[38;5;45mNone\u001b[0m, \u001b[38;5;34m5\u001b[0m)                   │             \u001b[38;5;34m165\u001b[0m │\n",
       "└──────────────────────────────────────┴─────────────────────────────┴─────────────────┘\n"
      ]
     },
     "metadata": {},
     "output_type": "display_data"
    },
    {
     "data": {
      "text/html": [
       "<pre style=\"white-space:pre;overflow-x:auto;line-height:normal;font-family:Menlo,'DejaVu Sans Mono',consolas,'Courier New',monospace\"><span style=\"font-weight: bold\"> Total params: </span><span style=\"color: #00af00; text-decoration-color: #00af00\">6,581</span> (25.71 KB)\n",
       "</pre>\n"
      ],
      "text/plain": [
       "\u001b[1m Total params: \u001b[0m\u001b[38;5;34m6,581\u001b[0m (25.71 KB)\n"
      ]
     },
     "metadata": {},
     "output_type": "display_data"
    },
    {
     "data": {
      "text/html": [
       "<pre style=\"white-space:pre;overflow-x:auto;line-height:normal;font-family:Menlo,'DejaVu Sans Mono',consolas,'Courier New',monospace\"><span style=\"font-weight: bold\"> Trainable params: </span><span style=\"color: #00af00; text-decoration-color: #00af00\">6,581</span> (25.71 KB)\n",
       "</pre>\n"
      ],
      "text/plain": [
       "\u001b[1m Trainable params: \u001b[0m\u001b[38;5;34m6,581\u001b[0m (25.71 KB)\n"
      ]
     },
     "metadata": {},
     "output_type": "display_data"
    },
    {
     "data": {
      "text/html": [
       "<pre style=\"white-space:pre;overflow-x:auto;line-height:normal;font-family:Menlo,'DejaVu Sans Mono',consolas,'Courier New',monospace\"><span style=\"font-weight: bold\"> Non-trainable params: </span><span style=\"color: #00af00; text-decoration-color: #00af00\">0</span> (0.00 B)\n",
       "</pre>\n"
      ],
      "text/plain": [
       "\u001b[1m Non-trainable params: \u001b[0m\u001b[38;5;34m0\u001b[0m (0.00 B)\n"
      ]
     },
     "metadata": {},
     "output_type": "display_data"
    }
   ],
   "source": [
    "from keras.models import Sequential\n",
    "from keras.layers import Dense, Dropout, Flatten, Conv1D, MaxPooling1D, BatchNormalization, ReLU\n",
    "from tensorflow.keras.callbacks import EarlyStopping\n",
    "# Create the CNN model\n",
    "CNN_model = Sequential()\n",
    "\n",
    "# Add the first convolutional layer\n",
    "CNN_model.add(Conv1D(32, kernel_size=5, padding='same', activation='relu', input_shape=(187, 1)))\n",
    "CNN_model.add(MaxPooling1D(pool_size=2, strides=2))\n",
    "\n",
    "# Add the second convolutional layer \n",
    "CNN_model.add(Conv1D(16, kernel_size=3, padding='same', activation='relu'))\n",
    "CNN_model.add(MaxPooling1D(pool_size=2, strides=2))\n",
    "\n",
    "# Add the third convolutional layer\n",
    "CNN_model.add(Conv1D(16, kernel_size=5, padding='same', activation='relu'))\n",
    "CNN_model.add(MaxPooling1D(pool_size=2, strides=2))\n",
    "\n",
    "# Add the fourth convolutional layer\n",
    "CNN_model.add(Conv1D(16, kernel_size=3, padding='same', activation='relu'))\n",
    "CNN_model.add(MaxPooling1D(pool_size=2, strides=2))\n",
    "\n",
    "# Max pooling layer\n",
    "CNN_model.add(MaxPooling1D(pool_size=2, strides=2))\n",
    "\n",
    "# Flatten the output from the convolutional layers\n",
    "CNN_model.add(Flatten())\n",
    "\n",
    "# Add the dense layers\n",
    "CNN_model.add(Dense(32, activation='relu'))\n",
    "CNN_model.add(Dense(5, activation='softmax'))\n",
    "\n",
    "# Compile the model\n",
    "CNN_model.compile(optimizer='adam', loss='sparse_categorical_crossentropy', metrics=['accuracy'])\n",
    "\n",
    "# Define early stopping callback\n",
    "early_stopping = EarlyStopping(monitor='val_loss', patience=15, restore_best_weights=True)\n",
    "\n",
    "# Print the model summary\n",
    "CNN_model.summary()\n"
   ]
  },
  {
   "cell_type": "code",
   "execution_count": null,
   "metadata": {},
   "outputs": [
    {
     "name": "stdout",
     "output_type": "stream",
     "text": [
      "Epoch 1/150\n",
      "\u001b[1m1250/1250\u001b[0m \u001b[32m━━━━━━━━━━━━━━━━━━━━\u001b[0m\u001b[37m\u001b[0m \u001b[1m25s\u001b[0m 16ms/step - accuracy: 0.7473 - loss: 0.6864 - val_accuracy: 0.8936 - val_loss: 0.2991\n",
      "Epoch 2/150\n",
      "\u001b[1m1250/1250\u001b[0m \u001b[32m━━━━━━━━━━━━━━━━━━━━\u001b[0m\u001b[37m\u001b[0m \u001b[1m17s\u001b[0m 14ms/step - accuracy: 0.8951 - loss: 0.2894 - val_accuracy: 0.9079 - val_loss: 0.2444\n",
      "Epoch 3/150\n",
      "\u001b[1m1250/1250\u001b[0m \u001b[32m━━━━━━━━━━━━━━━━━━━━\u001b[0m\u001b[37m\u001b[0m \u001b[1m20s\u001b[0m 16ms/step - accuracy: 0.9228 - loss: 0.2157 - val_accuracy: 0.9365 - val_loss: 0.1808\n",
      "Epoch 4/150\n",
      "\u001b[1m1250/1250\u001b[0m \u001b[32m━━━━━━━━━━━━━━━━━━━━\u001b[0m\u001b[37m\u001b[0m \u001b[1m17s\u001b[0m 13ms/step - accuracy: 0.9396 - loss: 0.1750 - val_accuracy: 0.9464 - val_loss: 0.1557\n",
      "Epoch 5/150\n",
      "\u001b[1m1250/1250\u001b[0m \u001b[32m━━━━━━━━━━━━━━━━━━━━\u001b[0m\u001b[37m\u001b[0m \u001b[1m17s\u001b[0m 14ms/step - accuracy: 0.9478 - loss: 0.1492 - val_accuracy: 0.9487 - val_loss: 0.1463\n",
      "Epoch 6/150\n",
      "\u001b[1m1250/1250\u001b[0m \u001b[32m━━━━━━━━━━━━━━━━━━━━\u001b[0m\u001b[37m\u001b[0m \u001b[1m16s\u001b[0m 13ms/step - accuracy: 0.9546 - loss: 0.1323 - val_accuracy: 0.9550 - val_loss: 0.1320\n",
      "Epoch 7/150\n",
      "\u001b[1m1250/1250\u001b[0m \u001b[32m━━━━━━━━━━━━━━━━━━━━\u001b[0m\u001b[37m\u001b[0m \u001b[1m16s\u001b[0m 13ms/step - accuracy: 0.9616 - loss: 0.1151 - val_accuracy: 0.9558 - val_loss: 0.1246\n",
      "Epoch 8/150\n",
      "\u001b[1m1250/1250\u001b[0m \u001b[32m━━━━━━━━━━━━━━━━━━━━\u001b[0m\u001b[37m\u001b[0m \u001b[1m17s\u001b[0m 13ms/step - accuracy: 0.9663 - loss: 0.1023 - val_accuracy: 0.9681 - val_loss: 0.0978\n",
      "Epoch 9/150\n",
      "\u001b[1m1250/1250\u001b[0m \u001b[32m━━━━━━━━━━━━━━━━━━━━\u001b[0m\u001b[37m\u001b[0m \u001b[1m21s\u001b[0m 17ms/step - accuracy: 0.9668 - loss: 0.0977 - val_accuracy: 0.9647 - val_loss: 0.1036\n",
      "Epoch 10/150\n",
      "\u001b[1m1250/1250\u001b[0m \u001b[32m━━━━━━━━━━━━━━━━━━━━\u001b[0m\u001b[37m\u001b[0m \u001b[1m20s\u001b[0m 16ms/step - accuracy: 0.9696 - loss: 0.0914 - val_accuracy: 0.9623 - val_loss: 0.1179\n",
      "Epoch 11/150\n",
      "\u001b[1m1250/1250\u001b[0m \u001b[32m━━━━━━━━━━━━━━━━━━━━\u001b[0m\u001b[37m\u001b[0m \u001b[1m18s\u001b[0m 14ms/step - accuracy: 0.9732 - loss: 0.0828 - val_accuracy: 0.9712 - val_loss: 0.0873\n",
      "Epoch 12/150\n",
      "\u001b[1m1250/1250\u001b[0m \u001b[32m━━━━━━━━━━━━━━━━━━━━\u001b[0m\u001b[37m\u001b[0m \u001b[1m21s\u001b[0m 16ms/step - accuracy: 0.9749 - loss: 0.0764 - val_accuracy: 0.9718 - val_loss: 0.0894\n",
      "Epoch 13/150\n",
      "\u001b[1m1250/1250\u001b[0m \u001b[32m━━━━━━━━━━━━━━━━━━━━\u001b[0m\u001b[37m\u001b[0m \u001b[1m21s\u001b[0m 17ms/step - accuracy: 0.9748 - loss: 0.0756 - val_accuracy: 0.9628 - val_loss: 0.0995\n",
      "Epoch 14/150\n",
      "\u001b[1m1250/1250\u001b[0m \u001b[32m━━━━━━━━━━━━━━━━━━━━\u001b[0m\u001b[37m\u001b[0m \u001b[1m19s\u001b[0m 15ms/step - accuracy: 0.9760 - loss: 0.0709 - val_accuracy: 0.9719 - val_loss: 0.0833\n",
      "Epoch 15/150\n",
      "\u001b[1m1250/1250\u001b[0m \u001b[32m━━━━━━━━━━━━━━━━━━━━\u001b[0m\u001b[37m\u001b[0m \u001b[1m17s\u001b[0m 14ms/step - accuracy: 0.9786 - loss: 0.0666 - val_accuracy: 0.9645 - val_loss: 0.0986\n",
      "Epoch 16/150\n",
      "\u001b[1m1250/1250\u001b[0m \u001b[32m━━━━━━━━━━━━━━━━━━━━\u001b[0m\u001b[37m\u001b[0m \u001b[1m17s\u001b[0m 14ms/step - accuracy: 0.9800 - loss: 0.0621 - val_accuracy: 0.9743 - val_loss: 0.0783\n",
      "Epoch 17/150\n",
      "\u001b[1m1250/1250\u001b[0m \u001b[32m━━━━━━━━━━━━━━━━━━━━\u001b[0m\u001b[37m\u001b[0m \u001b[1m19s\u001b[0m 15ms/step - accuracy: 0.9810 - loss: 0.0609 - val_accuracy: 0.9742 - val_loss: 0.0770\n",
      "Epoch 18/150\n",
      "\u001b[1m1250/1250\u001b[0m \u001b[32m━━━━━━━━━━━━━━━━━━━━\u001b[0m\u001b[37m\u001b[0m \u001b[1m20s\u001b[0m 16ms/step - accuracy: 0.9822 - loss: 0.0546 - val_accuracy: 0.9786 - val_loss: 0.0692\n",
      "Epoch 19/150\n",
      "\u001b[1m1250/1250\u001b[0m \u001b[32m━━━━━━━━━━━━━━━━━━━━\u001b[0m\u001b[37m\u001b[0m \u001b[1m20s\u001b[0m 16ms/step - accuracy: 0.9828 - loss: 0.0551 - val_accuracy: 0.9778 - val_loss: 0.0752\n",
      "Epoch 20/150\n",
      "\u001b[1m1250/1250\u001b[0m \u001b[32m━━━━━━━━━━━━━━━━━━━━\u001b[0m\u001b[37m\u001b[0m \u001b[1m22s\u001b[0m 17ms/step - accuracy: 0.9828 - loss: 0.0522 - val_accuracy: 0.9820 - val_loss: 0.0615\n",
      "Epoch 21/150\n",
      "\u001b[1m1250/1250\u001b[0m \u001b[32m━━━━━━━━━━━━━━━━━━━━\u001b[0m\u001b[37m\u001b[0m \u001b[1m21s\u001b[0m 17ms/step - accuracy: 0.9842 - loss: 0.0497 - val_accuracy: 0.9796 - val_loss: 0.0690\n",
      "Epoch 22/150\n",
      "\u001b[1m1250/1250\u001b[0m \u001b[32m━━━━━━━━━━━━━━━━━━━━\u001b[0m\u001b[37m\u001b[0m \u001b[1m19s\u001b[0m 15ms/step - accuracy: 0.9856 - loss: 0.0458 - val_accuracy: 0.9816 - val_loss: 0.0658\n",
      "Epoch 23/150\n",
      "\u001b[1m1250/1250\u001b[0m \u001b[32m━━━━━━━━━━━━━━━━━━━━\u001b[0m\u001b[37m\u001b[0m \u001b[1m20s\u001b[0m 16ms/step - accuracy: 0.9853 - loss: 0.0446 - val_accuracy: 0.9769 - val_loss: 0.0815\n",
      "Epoch 24/150\n",
      "\u001b[1m1250/1250\u001b[0m \u001b[32m━━━━━━━━━━━━━━━━━━━━\u001b[0m\u001b[37m\u001b[0m \u001b[1m18s\u001b[0m 14ms/step - accuracy: 0.9846 - loss: 0.0477 - val_accuracy: 0.9829 - val_loss: 0.0623\n",
      "Epoch 25/150\n",
      "\u001b[1m1250/1250\u001b[0m \u001b[32m━━━━━━━━━━━━━━━━━━━━\u001b[0m\u001b[37m\u001b[0m \u001b[1m17s\u001b[0m 14ms/step - accuracy: 0.9863 - loss: 0.0427 - val_accuracy: 0.9855 - val_loss: 0.0545\n",
      "Epoch 26/150\n",
      "\u001b[1m1250/1250\u001b[0m \u001b[32m━━━━━━━━━━━━━━━━━━━━\u001b[0m\u001b[37m\u001b[0m \u001b[1m20s\u001b[0m 16ms/step - accuracy: 0.9874 - loss: 0.0397 - val_accuracy: 0.9830 - val_loss: 0.0605\n",
      "Epoch 27/150\n",
      "\u001b[1m1250/1250\u001b[0m \u001b[32m━━━━━━━━━━━━━━━━━━━━\u001b[0m\u001b[37m\u001b[0m \u001b[1m21s\u001b[0m 17ms/step - accuracy: 0.9883 - loss: 0.0377 - val_accuracy: 0.9832 - val_loss: 0.0610\n",
      "Epoch 28/150\n",
      "\u001b[1m1250/1250\u001b[0m \u001b[32m━━━━━━━━━━━━━━━━━━━━\u001b[0m\u001b[37m\u001b[0m \u001b[1m23s\u001b[0m 18ms/step - accuracy: 0.9869 - loss: 0.0388 - val_accuracy: 0.9847 - val_loss: 0.0550\n",
      "Epoch 29/150\n",
      "\u001b[1m1250/1250\u001b[0m \u001b[32m━━━━━━━━━━━━━━━━━━━━\u001b[0m\u001b[37m\u001b[0m \u001b[1m21s\u001b[0m 17ms/step - accuracy: 0.9884 - loss: 0.0343 - val_accuracy: 0.9847 - val_loss: 0.0520\n",
      "Epoch 30/150\n",
      "\u001b[1m1250/1250\u001b[0m \u001b[32m━━━━━━━━━━━━━━━━━━━━\u001b[0m\u001b[37m\u001b[0m \u001b[1m18s\u001b[0m 14ms/step - accuracy: 0.9869 - loss: 0.0392 - val_accuracy: 0.9749 - val_loss: 0.0739\n",
      "Epoch 31/150\n",
      "\u001b[1m1250/1250\u001b[0m \u001b[32m━━━━━━━━━━━━━━━━━━━━\u001b[0m\u001b[37m\u001b[0m \u001b[1m18s\u001b[0m 14ms/step - accuracy: 0.9872 - loss: 0.0383 - val_accuracy: 0.9817 - val_loss: 0.0639\n",
      "Epoch 32/150\n",
      "\u001b[1m1250/1250\u001b[0m \u001b[32m━━━━━━━━━━━━━━━━━━━━\u001b[0m\u001b[37m\u001b[0m \u001b[1m0s\u001b[0m 13ms/step - accuracy: 0.9881 - loss: 0.0354"
     ]
    }
   ],
   "source": [
    "# Fit the CNN model\n",
    "history_CNN = CNN_model.fit(X_train_normalized.reshape(-1, 187, 1), y_train,\n",
    "                    epochs=150,  # number of epochs\n",
    "                    batch_size=64,  # batch size\n",
    "                    validation_data=(X_valid_normalized, y_valid),\n",
    "                    callbacks=[early_stopping],\n",
    "                    verbose=1)\n",
    "\n",
    "# Evaluate the model\n",
    "loss, accuracy = CNN_model.evaluate(X_valid_normalized, y_valid)\n",
    "print(\"Validation Loss:\", loss)\n",
    "print(\"Validation Accuracy:\", accuracy)"
   ]
  },
  {
   "cell_type": "code",
   "execution_count": null,
   "metadata": {},
   "outputs": [],
   "source": []
  },
  {
   "cell_type": "code",
   "execution_count": 28,
   "metadata": {},
   "outputs": [
    {
     "name": "stdout",
     "output_type": "stream",
     "text": [
      "\u001b[1m782/782\u001b[0m \u001b[32m━━━━━━━━━━━━━━━━━━━━\u001b[0m\u001b[37m\u001b[0m \u001b[1m6s\u001b[0m 8ms/step - accuracy: 0.9859 - loss: 0.0624\n",
      "test Loss: 0.02961585484445095\n",
      "test Accuracy: 0.9929599761962891\n"
     ]
    }
   ],
   "source": [
    "\n",
    "loss_test, accuracy_test = CNN_model.evaluate(X_test_normalized, y_test)\n",
    "print(\"test Loss:\", loss_test)\n",
    "print(\"test Accuracy:\", accuracy_test)"
   ]
  },
  {
   "cell_type": "code",
   "execution_count": 40,
   "metadata": {},
   "outputs": [
    {
     "data": {
      "text/html": [
       "<pre style=\"white-space:pre;overflow-x:auto;line-height:normal;font-family:Menlo,'DejaVu Sans Mono',consolas,'Courier New',monospace\"><span style=\"font-weight: bold\">Model: \"sequential\"</span>\n",
       "</pre>\n"
      ],
      "text/plain": [
       "\u001b[1mModel: \"sequential\"\u001b[0m\n"
      ]
     },
     "metadata": {},
     "output_type": "display_data"
    },
    {
     "data": {
      "text/html": [
       "<pre style=\"white-space:pre;overflow-x:auto;line-height:normal;font-family:Menlo,'DejaVu Sans Mono',consolas,'Courier New',monospace\">┏━━━━━━━━━━━━━━━━━━━━━━━━━━━━━━━━━━━━━━┳━━━━━━━━━━━━━━━━━━━━━━━━━━━━━┳━━━━━━━━━━━━━━━━━┓\n",
       "┃<span style=\"font-weight: bold\"> Layer (type)                         </span>┃<span style=\"font-weight: bold\"> Output Shape                </span>┃<span style=\"font-weight: bold\">         Param # </span>┃\n",
       "┡━━━━━━━━━━━━━━━━━━━━━━━━━━━━━━━━━━━━━━╇━━━━━━━━━━━━━━━━━━━━━━━━━━━━━╇━━━━━━━━━━━━━━━━━┩\n",
       "│ conv1d (<span style=\"color: #0087ff; text-decoration-color: #0087ff\">Conv1D</span>)                      │ (<span style=\"color: #00d7ff; text-decoration-color: #00d7ff\">None</span>, <span style=\"color: #00af00; text-decoration-color: #00af00\">187</span>, <span style=\"color: #00af00; text-decoration-color: #00af00\">32</span>)             │             <span style=\"color: #00af00; text-decoration-color: #00af00\">192</span> │\n",
       "├──────────────────────────────────────┼─────────────────────────────┼─────────────────┤\n",
       "│ max_pooling1d (<span style=\"color: #0087ff; text-decoration-color: #0087ff\">MaxPooling1D</span>)         │ (<span style=\"color: #00d7ff; text-decoration-color: #00d7ff\">None</span>, <span style=\"color: #00af00; text-decoration-color: #00af00\">93</span>, <span style=\"color: #00af00; text-decoration-color: #00af00\">32</span>)              │               <span style=\"color: #00af00; text-decoration-color: #00af00\">0</span> │\n",
       "├──────────────────────────────────────┼─────────────────────────────┼─────────────────┤\n",
       "│ conv1d_1 (<span style=\"color: #0087ff; text-decoration-color: #0087ff\">Conv1D</span>)                    │ (<span style=\"color: #00d7ff; text-decoration-color: #00d7ff\">None</span>, <span style=\"color: #00af00; text-decoration-color: #00af00\">93</span>, <span style=\"color: #00af00; text-decoration-color: #00af00\">16</span>)              │           <span style=\"color: #00af00; text-decoration-color: #00af00\">1,552</span> │\n",
       "├──────────────────────────────────────┼─────────────────────────────┼─────────────────┤\n",
       "│ max_pooling1d_1 (<span style=\"color: #0087ff; text-decoration-color: #0087ff\">MaxPooling1D</span>)       │ (<span style=\"color: #00d7ff; text-decoration-color: #00d7ff\">None</span>, <span style=\"color: #00af00; text-decoration-color: #00af00\">46</span>, <span style=\"color: #00af00; text-decoration-color: #00af00\">16</span>)              │               <span style=\"color: #00af00; text-decoration-color: #00af00\">0</span> │\n",
       "├──────────────────────────────────────┼─────────────────────────────┼─────────────────┤\n",
       "│ conv1d_2 (<span style=\"color: #0087ff; text-decoration-color: #0087ff\">Conv1D</span>)                    │ (<span style=\"color: #00d7ff; text-decoration-color: #00d7ff\">None</span>, <span style=\"color: #00af00; text-decoration-color: #00af00\">46</span>, <span style=\"color: #00af00; text-decoration-color: #00af00\">16</span>)              │           <span style=\"color: #00af00; text-decoration-color: #00af00\">1,296</span> │\n",
       "├──────────────────────────────────────┼─────────────────────────────┼─────────────────┤\n",
       "│ max_pooling1d_2 (<span style=\"color: #0087ff; text-decoration-color: #0087ff\">MaxPooling1D</span>)       │ (<span style=\"color: #00d7ff; text-decoration-color: #00d7ff\">None</span>, <span style=\"color: #00af00; text-decoration-color: #00af00\">23</span>, <span style=\"color: #00af00; text-decoration-color: #00af00\">16</span>)              │               <span style=\"color: #00af00; text-decoration-color: #00af00\">0</span> │\n",
       "├──────────────────────────────────────┼─────────────────────────────┼─────────────────┤\n",
       "│ conv1d_3 (<span style=\"color: #0087ff; text-decoration-color: #0087ff\">Conv1D</span>)                    │ (<span style=\"color: #00d7ff; text-decoration-color: #00d7ff\">None</span>, <span style=\"color: #00af00; text-decoration-color: #00af00\">23</span>, <span style=\"color: #00af00; text-decoration-color: #00af00\">16</span>)              │             <span style=\"color: #00af00; text-decoration-color: #00af00\">784</span> │\n",
       "├──────────────────────────────────────┼─────────────────────────────┼─────────────────┤\n",
       "│ max_pooling1d_3 (<span style=\"color: #0087ff; text-decoration-color: #0087ff\">MaxPooling1D</span>)       │ (<span style=\"color: #00d7ff; text-decoration-color: #00d7ff\">None</span>, <span style=\"color: #00af00; text-decoration-color: #00af00\">11</span>, <span style=\"color: #00af00; text-decoration-color: #00af00\">16</span>)              │               <span style=\"color: #00af00; text-decoration-color: #00af00\">0</span> │\n",
       "├──────────────────────────────────────┼─────────────────────────────┼─────────────────┤\n",
       "│ max_pooling1d_4 (<span style=\"color: #0087ff; text-decoration-color: #0087ff\">MaxPooling1D</span>)       │ (<span style=\"color: #00d7ff; text-decoration-color: #00d7ff\">None</span>, <span style=\"color: #00af00; text-decoration-color: #00af00\">5</span>, <span style=\"color: #00af00; text-decoration-color: #00af00\">16</span>)               │               <span style=\"color: #00af00; text-decoration-color: #00af00\">0</span> │\n",
       "├──────────────────────────────────────┼─────────────────────────────┼─────────────────┤\n",
       "│ flatten (<span style=\"color: #0087ff; text-decoration-color: #0087ff\">Flatten</span>)                    │ (<span style=\"color: #00d7ff; text-decoration-color: #00d7ff\">None</span>, <span style=\"color: #00af00; text-decoration-color: #00af00\">80</span>)                  │               <span style=\"color: #00af00; text-decoration-color: #00af00\">0</span> │\n",
       "├──────────────────────────────────────┼─────────────────────────────┼─────────────────┤\n",
       "│ dense (<span style=\"color: #0087ff; text-decoration-color: #0087ff\">Dense</span>)                        │ (<span style=\"color: #00d7ff; text-decoration-color: #00d7ff\">None</span>, <span style=\"color: #00af00; text-decoration-color: #00af00\">32</span>)                  │           <span style=\"color: #00af00; text-decoration-color: #00af00\">2,592</span> │\n",
       "├──────────────────────────────────────┼─────────────────────────────┼─────────────────┤\n",
       "│ dense_1 (<span style=\"color: #0087ff; text-decoration-color: #0087ff\">Dense</span>)                      │ (<span style=\"color: #00d7ff; text-decoration-color: #00d7ff\">None</span>, <span style=\"color: #00af00; text-decoration-color: #00af00\">5</span>)                   │             <span style=\"color: #00af00; text-decoration-color: #00af00\">165</span> │\n",
       "└──────────────────────────────────────┴─────────────────────────────┴─────────────────┘\n",
       "</pre>\n"
      ],
      "text/plain": [
       "┏━━━━━━━━━━━━━━━━━━━━━━━━━━━━━━━━━━━━━━┳━━━━━━━━━━━━━━━━━━━━━━━━━━━━━┳━━━━━━━━━━━━━━━━━┓\n",
       "┃\u001b[1m \u001b[0m\u001b[1mLayer (type)                        \u001b[0m\u001b[1m \u001b[0m┃\u001b[1m \u001b[0m\u001b[1mOutput Shape               \u001b[0m\u001b[1m \u001b[0m┃\u001b[1m \u001b[0m\u001b[1m        Param #\u001b[0m\u001b[1m \u001b[0m┃\n",
       "┡━━━━━━━━━━━━━━━━━━━━━━━━━━━━━━━━━━━━━━╇━━━━━━━━━━━━━━━━━━━━━━━━━━━━━╇━━━━━━━━━━━━━━━━━┩\n",
       "│ conv1d (\u001b[38;5;33mConv1D\u001b[0m)                      │ (\u001b[38;5;45mNone\u001b[0m, \u001b[38;5;34m187\u001b[0m, \u001b[38;5;34m32\u001b[0m)             │             \u001b[38;5;34m192\u001b[0m │\n",
       "├──────────────────────────────────────┼─────────────────────────────┼─────────────────┤\n",
       "│ max_pooling1d (\u001b[38;5;33mMaxPooling1D\u001b[0m)         │ (\u001b[38;5;45mNone\u001b[0m, \u001b[38;5;34m93\u001b[0m, \u001b[38;5;34m32\u001b[0m)              │               \u001b[38;5;34m0\u001b[0m │\n",
       "├──────────────────────────────────────┼─────────────────────────────┼─────────────────┤\n",
       "│ conv1d_1 (\u001b[38;5;33mConv1D\u001b[0m)                    │ (\u001b[38;5;45mNone\u001b[0m, \u001b[38;5;34m93\u001b[0m, \u001b[38;5;34m16\u001b[0m)              │           \u001b[38;5;34m1,552\u001b[0m │\n",
       "├──────────────────────────────────────┼─────────────────────────────┼─────────────────┤\n",
       "│ max_pooling1d_1 (\u001b[38;5;33mMaxPooling1D\u001b[0m)       │ (\u001b[38;5;45mNone\u001b[0m, \u001b[38;5;34m46\u001b[0m, \u001b[38;5;34m16\u001b[0m)              │               \u001b[38;5;34m0\u001b[0m │\n",
       "├──────────────────────────────────────┼─────────────────────────────┼─────────────────┤\n",
       "│ conv1d_2 (\u001b[38;5;33mConv1D\u001b[0m)                    │ (\u001b[38;5;45mNone\u001b[0m, \u001b[38;5;34m46\u001b[0m, \u001b[38;5;34m16\u001b[0m)              │           \u001b[38;5;34m1,296\u001b[0m │\n",
       "├──────────────────────────────────────┼─────────────────────────────┼─────────────────┤\n",
       "│ max_pooling1d_2 (\u001b[38;5;33mMaxPooling1D\u001b[0m)       │ (\u001b[38;5;45mNone\u001b[0m, \u001b[38;5;34m23\u001b[0m, \u001b[38;5;34m16\u001b[0m)              │               \u001b[38;5;34m0\u001b[0m │\n",
       "├──────────────────────────────────────┼─────────────────────────────┼─────────────────┤\n",
       "│ conv1d_3 (\u001b[38;5;33mConv1D\u001b[0m)                    │ (\u001b[38;5;45mNone\u001b[0m, \u001b[38;5;34m23\u001b[0m, \u001b[38;5;34m16\u001b[0m)              │             \u001b[38;5;34m784\u001b[0m │\n",
       "├──────────────────────────────────────┼─────────────────────────────┼─────────────────┤\n",
       "│ max_pooling1d_3 (\u001b[38;5;33mMaxPooling1D\u001b[0m)       │ (\u001b[38;5;45mNone\u001b[0m, \u001b[38;5;34m11\u001b[0m, \u001b[38;5;34m16\u001b[0m)              │               \u001b[38;5;34m0\u001b[0m │\n",
       "├──────────────────────────────────────┼─────────────────────────────┼─────────────────┤\n",
       "│ max_pooling1d_4 (\u001b[38;5;33mMaxPooling1D\u001b[0m)       │ (\u001b[38;5;45mNone\u001b[0m, \u001b[38;5;34m5\u001b[0m, \u001b[38;5;34m16\u001b[0m)               │               \u001b[38;5;34m0\u001b[0m │\n",
       "├──────────────────────────────────────┼─────────────────────────────┼─────────────────┤\n",
       "│ flatten (\u001b[38;5;33mFlatten\u001b[0m)                    │ (\u001b[38;5;45mNone\u001b[0m, \u001b[38;5;34m80\u001b[0m)                  │               \u001b[38;5;34m0\u001b[0m │\n",
       "├──────────────────────────────────────┼─────────────────────────────┼─────────────────┤\n",
       "│ dense (\u001b[38;5;33mDense\u001b[0m)                        │ (\u001b[38;5;45mNone\u001b[0m, \u001b[38;5;34m32\u001b[0m)                  │           \u001b[38;5;34m2,592\u001b[0m │\n",
       "├──────────────────────────────────────┼─────────────────────────────┼─────────────────┤\n",
       "│ dense_1 (\u001b[38;5;33mDense\u001b[0m)                      │ (\u001b[38;5;45mNone\u001b[0m, \u001b[38;5;34m5\u001b[0m)                   │             \u001b[38;5;34m165\u001b[0m │\n",
       "└──────────────────────────────────────┴─────────────────────────────┴─────────────────┘\n"
      ]
     },
     "metadata": {},
     "output_type": "display_data"
    },
    {
     "data": {
      "text/html": [
       "<pre style=\"white-space:pre;overflow-x:auto;line-height:normal;font-family:Menlo,'DejaVu Sans Mono',consolas,'Courier New',monospace\"><span style=\"font-weight: bold\"> Total params: </span><span style=\"color: #00af00; text-decoration-color: #00af00\">19,745</span> (77.13 KB)\n",
       "</pre>\n"
      ],
      "text/plain": [
       "\u001b[1m Total params: \u001b[0m\u001b[38;5;34m19,745\u001b[0m (77.13 KB)\n"
      ]
     },
     "metadata": {},
     "output_type": "display_data"
    },
    {
     "data": {
      "text/html": [
       "<pre style=\"white-space:pre;overflow-x:auto;line-height:normal;font-family:Menlo,'DejaVu Sans Mono',consolas,'Courier New',monospace\"><span style=\"font-weight: bold\"> Trainable params: </span><span style=\"color: #00af00; text-decoration-color: #00af00\">6,581</span> (25.71 KB)\n",
       "</pre>\n"
      ],
      "text/plain": [
       "\u001b[1m Trainable params: \u001b[0m\u001b[38;5;34m6,581\u001b[0m (25.71 KB)\n"
      ]
     },
     "metadata": {},
     "output_type": "display_data"
    },
    {
     "data": {
      "text/html": [
       "<pre style=\"white-space:pre;overflow-x:auto;line-height:normal;font-family:Menlo,'DejaVu Sans Mono',consolas,'Courier New',monospace\"><span style=\"font-weight: bold\"> Non-trainable params: </span><span style=\"color: #00af00; text-decoration-color: #00af00\">0</span> (0.00 B)\n",
       "</pre>\n"
      ],
      "text/plain": [
       "\u001b[1m Non-trainable params: \u001b[0m\u001b[38;5;34m0\u001b[0m (0.00 B)\n"
      ]
     },
     "metadata": {},
     "output_type": "display_data"
    },
    {
     "data": {
      "text/html": [
       "<pre style=\"white-space:pre;overflow-x:auto;line-height:normal;font-family:Menlo,'DejaVu Sans Mono',consolas,'Courier New',monospace\"><span style=\"font-weight: bold\"> Optimizer params: </span><span style=\"color: #00af00; text-decoration-color: #00af00\">13,164</span> (51.43 KB)\n",
       "</pre>\n"
      ],
      "text/plain": [
       "\u001b[1m Optimizer params: \u001b[0m\u001b[38;5;34m13,164\u001b[0m (51.43 KB)\n"
      ]
     },
     "metadata": {},
     "output_type": "display_data"
    }
   ],
   "source": [
    "from tensorflow.keras.models import load_model\n",
    "\n",
    "# Load the model\n",
    "model = load_model(\"cnn_model.keras\")\n",
    "\n",
    "# View the architecture\n",
    "model.summary()\n",
    "\n",
    "# Access weights\n",
    "weights = model.get_weights()\n"
   ]
  },
  {
   "cell_type": "code",
   "execution_count": 70,
   "metadata": {},
   "outputs": [
    {
     "name": "stdout",
     "output_type": "stream",
     "text": [
      "Layer 1 has no weights\n",
      "Layer 3 has no weights\n",
      "Layer 5 has no weights\n",
      "Layer 7 has no weights\n",
      "Layer 8 has no weights\n",
      "Layer 9 has no weights\n"
     ]
    }
   ],
   "source": [
    "for i, layer in enumerate(CNN_model.layers):  # Iterate over all layers\n",
    "    weights = layer.get_weights()  # Retrieve weights for each layer\n",
    "    if weights:\n",
    "        filename = f\"layer_{i}_weights.txt\"\n",
    "        with open(filename, 'w') as file:\n",
    "            if isinstance(layer, Conv1D):  # Conv1D layer with 3D weights (filters) and optionally biases\n",
    "                layer_weights = weights[0]  # Filter weights (3D array)\n",
    "                file.write('{\\n')\n",
    "                for filter_idx in range(layer_weights.shape[0]):  # Iterate over filters\n",
    "                    \n",
    "                    for row in range(layer_weights.shape[1]):  # Iterate over rows of filter (kernel_size)\n",
    "                        file.write('    [')\n",
    "                        for col in range(layer_weights.shape[2]):  # Iterate over columns (input channels)\n",
    "                            file.write(f\" {layer_weights[filter_idx][row][col]:.6f}\")\n",
    "                            if col != layer_weights.shape[2] - 1:\n",
    "                                file.write(', ')\n",
    "                        file.write(' ]\\n')\n",
    "                    \n",
    "\n",
    "                # If there's a bias term, save it as well\n",
    "                if len(weights) > 1:  # Bias exists\n",
    "                    bias = weights[1]\n",
    "                    file.write('  \"bias\": [')\n",
    "                    file.write(', '.join([f\"{b:.6f}\" for b in bias]))\n",
    "                    file.write(']\\n')\n",
    "\n",
    "            elif isinstance(layer, Dense):  # Dense layer with 2D weights\n",
    "                layer_weights = weights[0]  # Weights (2D array)\n",
    "                file.write('{\\n')\n",
    "                for row in range(layer_weights.shape[0]):\n",
    "                    file.write('  {')\n",
    "                    for col in range(layer_weights.shape[1]):\n",
    "                        file.write(f\" {layer_weights[row][col]:.6f}\")\n",
    "                        if col != layer_weights.shape[1] - 1:\n",
    "                            file.write(', ')  # Separate values\n",
    "                    file.write(' },\\n')\n",
    "                file.write('}\\n')\n",
    "            \n",
    "    else:\n",
    "        print(f\"Layer {i} has no weights\")\n"
   ]
  },
  {
   "cell_type": "code",
   "execution_count": 68,
   "metadata": {},
   "outputs": [
    {
     "name": "stdout",
     "output_type": "stream",
     "text": [
      "[[[-0.27151278 -0.31544584 -0.00587663  0.53834254  0.37161273\n",
      "   -0.42925605 -0.43725076 -0.32678214 -0.4996658  -0.06370804\n",
      "    0.2939539  -0.19906361  0.3402935  -0.01050136 -0.20554943\n",
      "    0.3689623  -0.279098   -0.25020805  0.12689085 -0.21402834\n",
      "   -0.38998726  0.34111258 -0.4121878   0.21480373  0.04410401\n",
      "    0.1280247   0.42283228  0.25481775  0.48711008  0.39640176\n",
      "   -0.47796062 -0.23852205]]\n",
      "\n",
      " [[-0.40826264 -0.2859502  -0.33303973 -0.44168398  0.14215389\n",
      "   -0.4484836  -0.06683982  0.06213253 -0.08375732  0.38303944\n",
      "   -0.17693111 -0.12635414  0.17955235  0.45264488  0.0853743\n",
      "    0.15811285 -0.16950041  0.44676334 -0.20111434 -0.31843206\n",
      "   -0.18605468 -0.05240737  0.632011   -0.45430762  0.01475362\n",
      "    0.07743561  0.16319114  0.14054894  0.40146828  0.32841685\n",
      "   -0.02665164 -0.17978078]]\n",
      "\n",
      " [[ 0.4261686   0.24821106 -0.16223317 -0.22334035  0.3107268\n",
      "    0.48080522  0.3298617  -0.17394818 -0.18353912 -0.43527976\n",
      "   -0.46642253 -0.3581131  -0.1884048  -0.16640219  0.23261863\n",
      "    0.29383197 -0.32151222  0.56223696  0.01741108  0.5691098\n",
      "   -0.173139   -0.6264805   0.26409793  0.27414978 -0.03199216\n",
      "   -0.08207831 -0.04243919 -0.0166031  -0.0697832  -0.09986733\n",
      "    0.13793772  0.14612603]]\n",
      "\n",
      " [[ 0.17329966  0.24673806  0.07085045  0.7244418  -0.14121364\n",
      "   -0.3196455  -0.31678563  0.27597132  0.48044965  0.2999799\n",
      "   -0.1166646   0.00717908 -0.23900476 -0.13425441  0.31219563\n",
      "    0.18215315  0.03664978 -0.43591908 -0.35218343  0.34513232\n",
      "    0.38231528 -0.10442773  0.06916838  0.15341167  0.16756895\n",
      "    0.14754434 -0.6449446  -0.5774877  -0.01981195 -0.5406304\n",
      "    0.36867666  0.3975557 ]]\n",
      "\n",
      " [[ 0.02041082 -0.12774678  0.11596917 -0.4224035  -0.8208009\n",
      "    0.1842968  -0.45545503  0.2920341   0.298049   -0.16739464\n",
      "    0.49428257  0.00859619  0.4293493   0.13326634  0.39318654\n",
      "    0.21831714  0.15751539 -0.3624184  -0.53741074 -0.37897122\n",
      "    0.34391052  0.21939707 -0.38924465 -0.19430687  0.11659696\n",
      "    0.2736057  -0.38627896  0.41486084 -0.34064087 -0.20227014\n",
      "   -0.17647794  0.17440712]]]\n",
      "Layer 1 has no weights\n",
      "[[[-0.40579143 -0.350978   -0.13108835 ... -0.12586693 -0.13719876\n",
      "   -0.15805383]\n",
      "  [ 0.433097   -0.9407235   0.44390693 ...  0.23582426 -0.27139816\n",
      "    0.04035205]\n",
      "  [-0.23516612 -0.14959992  0.17751208 ...  0.34658548 -0.09662907\n",
      "   -0.20781301]\n",
      "  ...\n",
      "  [-0.14559336 -0.39597887 -0.39937985 ...  0.2021831   0.35798064\n",
      "   -0.14672296]\n",
      "  [ 0.50116557 -0.73783064  0.348847   ... -0.20160694 -0.4170263\n",
      "    0.09530035]\n",
      "  [-0.21453232 -0.15861133 -0.09172358 ... -0.37699232  0.18942824\n",
      "   -0.13981575]]\n",
      "\n",
      " [[-0.3425733   0.19357195 -0.40588078 ... -0.10011252 -0.27470458\n",
      "   -0.15600707]\n",
      "  [ 0.20767869  0.24003233  0.42570978 ...  0.4485508  -0.10253792\n",
      "   -0.02807389]\n",
      "  [ 0.281686    0.22234726 -0.02400122 ... -0.04083989  0.01918121\n",
      "   -0.18338345]\n",
      "  ...\n",
      "  [ 0.26461276 -0.338641   -0.50701755 ...  0.10416814  0.13515307\n",
      "   -0.05480031]\n",
      "  [-0.03596129  0.42377955 -0.17192118 ...  0.10743432 -0.45021355\n",
      "   -0.03013841]\n",
      "  [ 0.00650373 -0.08949504 -0.28726745 ...  0.46193972 -0.10250802\n",
      "    0.11626246]]\n",
      "\n",
      " [[ 0.26212522 -0.11599934  0.1431498  ...  0.04506782  0.33770338\n",
      "   -0.01217264]\n",
      "  [ 0.2691016  -0.01051322 -0.1470367  ...  0.37682357  0.24793996\n",
      "   -0.06567918]\n",
      "  [-0.13606444  0.0407557   0.35031578 ... -0.1744898   0.18021363\n",
      "   -0.06440195]\n",
      "  ...\n",
      "  [-0.06113166 -0.3546257  -0.46152705 ... -0.5595888   0.3135595\n",
      "   -0.10266827]\n",
      "  [-0.12618375  0.00980902 -0.13702582 ...  0.31925455  0.20406309\n",
      "   -0.140854  ]\n",
      "  [ 0.14088626 -0.1328141  -0.07936236 ...  0.10257939  0.22928001\n",
      "   -0.03340307]]]\n",
      "Layer 3 has no weights\n",
      "[[[-0.31323755  0.18328515 -0.17023616 ... -0.29802242 -0.23271693\n",
      "   -0.11277461]\n",
      "  [ 0.01472336 -0.4468905   0.15747616 ...  0.07662156 -0.25112754\n",
      "   -0.00344832]\n",
      "  [-0.2372092   0.19136243  0.29917473 ... -0.28426987 -0.01243416\n",
      "   -0.4317478 ]\n",
      "  ...\n",
      "  [ 0.47584882  0.10817879  0.38284996 ... -0.21223736  0.3139321\n",
      "   -0.15491727]\n",
      "  [ 0.5797983  -0.5044709   0.35107997 ... -0.09431443  0.08703627\n",
      "    0.43585223]\n",
      "  [-0.16649963 -0.09312928  0.09263267 ... -0.17980707  0.09557309\n",
      "    0.04326437]]\n",
      "\n",
      " [[-0.02200582 -0.31433016 -0.17623697 ...  0.12987405 -0.22067076\n",
      "    0.02657872]\n",
      "  [-0.57191056  0.00854832 -0.5425797  ...  0.35760808 -0.2162094\n",
      "    0.02803939]\n",
      "  [ 0.2887067   0.22482146  0.73984617 ...  0.27889153 -0.29305464\n",
      "   -0.56660914]\n",
      "  ...\n",
      "  [-0.1205975  -0.38223487  0.1502355  ...  0.13326658 -0.10303944\n",
      "    0.49601063]\n",
      "  [ 0.15121663  0.28177378 -0.24395753 ... -0.06215151  0.13638298\n",
      "    0.13934056]\n",
      "  [-0.01221436  0.120621   -0.04810339 ... -0.14828062 -0.11591778\n",
      "   -0.07142951]]\n",
      "\n",
      " [[ 0.23199138  0.27233207  0.2448611  ...  0.41248128  0.39757523\n",
      "   -0.44041285]\n",
      "  [ 0.23308335 -0.0991862   0.11414256 ...  0.4197417  -0.20959054\n",
      "   -0.21448565]\n",
      "  [-0.29515898 -0.1378275   0.26542315 ... -0.0852829   0.2218884\n",
      "    0.08641307]\n",
      "  ...\n",
      "  [-0.17093138  0.04040564  0.2302071  ... -0.08265615  0.32765806\n",
      "    0.10536376]\n",
      "  [-0.06672677 -0.12013541 -0.27762142 ... -0.26847318  0.31600657\n",
      "   -0.10632256]\n",
      "  [-0.16487089  0.02513678 -0.15477636 ... -0.08352777 -0.04294382\n",
      "   -0.01948841]]\n",
      "\n",
      " [[-0.12887117 -0.01325452  0.2780446  ...  0.16487782  0.38368732\n",
      "   -0.07551858]\n",
      "  [ 0.55031466 -0.10295235  0.21560787 ... -0.20490015 -0.30774176\n",
      "    0.17568141]\n",
      "  [ 0.53410584 -0.12156057  0.533865   ...  0.3770875  -0.07124475\n",
      "    0.29732165]\n",
      "  ...\n",
      "  [ 0.10261346  0.100225    0.38580313 ...  0.00355723 -0.03439536\n",
      "    0.36088815]\n",
      "  [-0.2286519   0.23812374 -0.08101539 ... -0.04636085  0.18497126\n",
      "   -0.21229614]\n",
      "  [-0.04208343 -0.09245121 -0.0685237  ...  0.08410738 -0.0371165\n",
      "    0.13105223]]\n",
      "\n",
      " [[ 0.3010824  -0.05159016  0.1057867  ... -0.17527467  0.06077511\n",
      "    0.22375005]\n",
      "  [-0.1182089  -0.191717   -0.21371062 ... -0.36537308  0.5412488\n",
      "    0.08384414]\n",
      "  [ 0.37128675 -0.21416056 -0.44215137 ... -0.1623575   0.6826878\n",
      "    0.44117224]\n",
      "  ...\n",
      "  [-0.3594212   0.01309849 -0.62710017 ... -0.11663574 -0.00673721\n",
      "   -0.45210338]\n",
      "  [-0.39608034 -0.21488997 -0.48163316 ... -0.03604457 -0.02593369\n",
      "    0.2939849 ]\n",
      "  [-0.11484039 -0.1947843   0.06980468 ... -0.10807221  0.17520213\n",
      "    0.17361805]]]\n",
      "Layer 5 has no weights\n",
      "[[[-5.15262365e-01  5.42842895e-02 -3.12626600e-01  1.59600750e-02\n",
      "    4.15013909e-01 -5.17086638e-03 -4.56978709e-01  5.18692397e-02\n",
      "    2.48022884e-01  2.24922419e-01  1.00081503e-01 -3.55035067e-01\n",
      "    2.94151455e-01  4.40951139e-02 -1.02641892e+00 -3.60762328e-01]\n",
      "  [-6.41064823e-01 -7.97775567e-01 -8.05979669e-02 -4.64587003e-01\n",
      "   -5.18336743e-02  8.19147527e-02 -1.16511583e-01 -2.83873528e-01\n",
      "   -7.80490879e-03 -3.97498041e-01 -1.68430790e-01 -1.69546887e-01\n",
      "   -5.22933304e-01  5.07845938e-01 -3.00666839e-01 -1.74630821e-01]\n",
      "  [-2.19052732e-02  4.01398569e-01 -3.25076312e-01 -1.47226676e-01\n",
      "   -4.37637240e-01 -4.03375745e-01 -2.69714415e-01 -5.80466568e-01\n",
      "   -5.78591287e-01  4.84664887e-02  2.40211233e-01  6.91992715e-02\n",
      "    2.29446813e-02 -4.61282551e-01 -1.85413063e-01 -1.57292545e-01]\n",
      "  [ 3.02117735e-01 -4.15683895e-01 -2.99390614e-01  1.05386809e-01\n",
      "    1.06321927e-02 -1.52810037e-01 -3.88068467e-01 -3.81209821e-01\n",
      "   -5.89505173e-02 -4.16980296e-01  1.93589583e-01  4.13347691e-01\n",
      "   -4.49794501e-01 -1.85746431e-01 -3.31160426e-01 -4.66519743e-01]\n",
      "  [-1.07975371e-01  2.34322369e-01 -2.55989879e-01 -2.51567155e-01\n",
      "   -6.44441769e-02 -1.15555368e-01 -5.30549705e-01 -5.43734252e-01\n",
      "   -1.77692324e-01  5.76492965e-01  2.02338055e-01 -2.22001478e-01\n",
      "    1.47328779e-01 -2.60222435e-01  7.99740925e-02  5.73836304e-02]\n",
      "  [ 6.13852851e-02 -6.22612953e-01 -3.56692704e-03 -4.41697270e-01\n",
      "    2.91577786e-01  2.77204901e-01 -3.55045140e-01 -7.81624615e-01\n",
      "   -3.87121700e-02  3.26193362e-01  8.61636400e-02 -2.55886793e-01\n",
      "    1.56475604e-02  5.67021549e-01 -1.84302539e-01 -2.02502474e-01]\n",
      "  [ 2.57884085e-01  1.06987581e-02 -3.88752043e-01  2.62658685e-01\n",
      "    2.30974197e-01 -3.30302149e-01 -1.06522180e-01 -9.35061947e-02\n",
      "   -1.09300263e-01 -4.32910137e-02 -7.19487488e-01 -1.95153847e-01\n",
      "   -2.32605264e-02  3.82485479e-01  3.55040610e-01  4.63413149e-01]\n",
      "  [-3.10875267e-01  4.46170270e-02 -8.06856994e-03 -4.85546052e-01\n",
      "   -1.31684005e-01 -1.16153739e-01  5.92463724e-02 -2.86884755e-01\n",
      "   -9.73249599e-02  1.25855401e-01 -4.96353418e-01 -8.08295384e-02\n",
      "    1.63981086e-03 -1.36808619e-01  1.66858763e-01 -2.91188478e-01]\n",
      "  [ 6.19087279e-01  2.93227226e-01 -8.20168257e-01  5.79232238e-02\n",
      "    5.09364426e-01  5.04093945e-01  5.83103240e-01 -2.13421941e-01\n",
      "   -1.39380181e+00  8.33404139e-02  3.83157074e-01 -4.30662274e-01\n",
      "    6.45038128e-01 -1.79071352e-01 -8.42164278e-01 -4.51270312e-01]\n",
      "  [ 4.00560200e-01  2.74384707e-01 -8.98664631e-03 -2.88466901e-01\n",
      "   -2.07082689e-01  1.17468774e-01  2.00835839e-01 -1.26197696e-01\n",
      "   -3.35346371e-01  2.09348500e-01  1.30195618e-01 -1.01908855e-01\n",
      "   -2.41301194e-01  6.06312305e-02 -3.17971379e-01  2.08510414e-01]\n",
      "  [ 4.45263356e-01 -8.46572146e-02 -4.98786539e-01 -4.08866882e-01\n",
      "    3.37022781e-01  1.33018851e-01 -8.16664875e-01 -5.21565139e-01\n",
      "   -4.27729875e-01  2.21887380e-01  1.76859051e-01  6.58876374e-02\n",
      "    7.77841583e-02  3.48971307e-01  3.49445909e-01 -2.45793968e-01]\n",
      "  [ 3.96713793e-01  6.66494742e-02  8.20053145e-02 -7.62402058e-01\n",
      "    1.65171772e-01 -2.95412302e-01 -5.06360710e-01  1.11472858e-02\n",
      "   -2.21951753e-01 -2.83578724e-01  4.60650176e-01 -4.10195231e-01\n",
      "    1.45085528e-01  5.06480336e-01  6.26756608e-01 -3.59748513e-01]\n",
      "  [ 3.88504863e-01 -1.37755260e-01  4.30569112e-01  1.42628074e-01\n",
      "    2.50073634e-02  4.78323638e-01 -1.14608347e-01 -1.65611520e-01\n",
      "    1.63126990e-01 -9.49712098e-02 -5.40099926e-02 -1.97341025e-01\n",
      "    2.33664110e-01 -5.26830614e-01 -1.54947206e-01  3.82142901e-01]\n",
      "  [ 6.60001412e-02  2.97127992e-01  1.17872201e-01  7.72444531e-02\n",
      "    3.06188226e-01  1.99906871e-01 -2.03534767e-01 -5.59134893e-02\n",
      "   -2.15823814e-01 -3.21700603e-01 -2.15667218e-01  1.08955495e-01\n",
      "    2.52097994e-01  9.73695293e-02  6.39813766e-02  5.25698476e-02]\n",
      "  [-2.21003935e-01  2.56087929e-01 -3.35894912e-01 -4.34629858e-01\n",
      "   -3.59808475e-01 -1.15446061e-01  7.10837394e-02  2.20069036e-01\n",
      "   -2.61141539e-01  1.31355017e-01 -1.39410734e-01  2.09399134e-01\n",
      "   -3.12558189e-02 -3.98820862e-02  3.04510426e-02 -4.82339919e-01]\n",
      "  [-3.83489519e-01  1.97817758e-01 -2.77660936e-01 -1.14411116e-01\n",
      "   -3.13481316e-02 -1.98292099e-02  6.96150064e-02 -1.86596781e-01\n",
      "   -2.40964532e-01  3.75629544e-01  2.48480722e-01 -5.50130121e-02\n",
      "    2.07238257e-01 -4.84874398e-01 -1.91556200e-01  2.70454143e-03]]\n",
      "\n",
      " [[ 3.28127474e-01  2.83565640e-01 -1.47017583e-01  2.40655020e-01\n",
      "   -1.33193895e-01 -4.53584678e-02 -8.51619095e-02 -3.13133568e-01\n",
      "   -1.71792746e-01 -1.46901682e-01 -1.58163626e-02 -1.69373065e-01\n",
      "    3.50732327e-01 -1.74940601e-01 -2.08685100e-02 -1.49812698e-01]\n",
      "  [-3.79027165e-02  1.10697016e-01  3.08676451e-01  1.13015972e-01\n",
      "   -2.41946906e-01  9.73461494e-02  2.39088401e-01  3.00662637e-01\n",
      "    1.89588349e-02  2.14018092e-01  1.70757547e-02  1.19295210e-01\n",
      "   -5.13550937e-01  9.72698629e-02 -2.60682583e-01  5.42487264e-01]\n",
      "  [-8.01166356e-01 -1.93942681e-01  1.64661989e-01  3.22477341e-01\n",
      "   -5.42956628e-02 -2.84000695e-01  1.25963807e-01 -2.64787525e-01\n",
      "    2.44086578e-01 -7.43717998e-02  4.86635596e-01  1.59864053e-01\n",
      "    4.07052130e-01  2.47416392e-01 -1.66756302e-01  2.22315401e-01]\n",
      "  [ 2.16210689e-02 -3.70662183e-01  2.30646342e-01  2.93490320e-01\n",
      "    4.86174971e-02  1.96908787e-01 -1.34165138e-01 -1.40275493e-01\n",
      "   -1.56766772e-01 -3.58401716e-01  9.49779823e-02  1.33785168e-02\n",
      "   -3.99225771e-01 -5.56823075e-01  1.06724277e-01 -1.62756473e-01]\n",
      "  [-1.60738513e-01  1.00352846e-01  3.77690606e-02 -2.93949217e-01\n",
      "   -1.50582179e-01  5.94443440e-01 -7.69767165e-02  2.82853872e-01\n",
      "   -2.05806017e-01  1.83175579e-01 -1.73531860e-01  2.39963576e-01\n",
      "    2.28324875e-01 -2.84218282e-01 -8.00151527e-02 -1.92974638e-02]\n",
      "  [-4.14435267e-01  8.02876148e-03  3.18011910e-01  1.04313925e-01\n",
      "    1.18466876e-01 -3.40450138e-01  1.10968746e-01 -4.42029178e-01\n",
      "   -2.28659913e-01  3.57763320e-01  8.18895549e-02 -1.08132027e-01\n",
      "    1.53634146e-01 -4.48542327e-01 -2.93734223e-02  3.19308072e-01]\n",
      "  [-1.91502720e-02 -1.27135172e-01  3.59663695e-01  2.40053773e-01\n",
      "   -1.12021044e-01  2.02588998e-02 -4.66984868e-01 -3.01759124e-01\n",
      "    1.28379807e-01  7.06297010e-02 -4.38574344e-01 -2.43287012e-01\n",
      "   -6.80497110e-01 -3.61805320e-01 -6.45551860e-01  7.81162828e-02]\n",
      "  [ 2.46383622e-01 -3.73363346e-01 -2.76228543e-02  1.80671304e-01\n",
      "    1.04988299e-01  1.03199616e-01  8.05233419e-03 -4.91314203e-01\n",
      "   -4.45309222e-01  2.65903860e-01 -5.37534952e-02 -1.92157581e-01\n",
      "   -4.24052179e-01  1.40185401e-01  2.65783649e-02  3.37130815e-01]\n",
      "  [-2.64652073e-01  4.99749690e-01 -1.77499816e-01 -1.17954813e-01\n",
      "   -5.69234312e-01  5.47113158e-02 -3.63372639e-03 -1.90439895e-01\n",
      "    4.03925925e-01 -6.10598147e-01  1.25206202e-01  5.37509739e-01\n",
      "    3.40124339e-01  1.72851652e-01  1.99980706e-01  1.52615264e-01]\n",
      "  [ 1.79403648e-01 -2.91424334e-01  1.80751517e-01  4.13383335e-01\n",
      "    5.13661504e-01  7.79925734e-02 -2.98360318e-01  2.45525554e-01\n",
      "   -3.08813125e-01 -9.57802907e-02  1.05258256e-01  5.63504994e-01\n",
      "    4.80134673e-02  1.55198472e-02  1.82480216e-01  1.10214293e-01]\n",
      "  [-5.51904619e-01  2.05507249e-01 -7.69109279e-02 -3.18082780e-01\n",
      "   -1.19349606e-01 -2.12417379e-01 -4.51012924e-02 -9.53557566e-02\n",
      "    1.61286071e-02  4.15244699e-01  4.32337999e-01 -6.54673338e-01\n",
      "   -4.68307525e-01  5.15030809e-02 -7.55212232e-02 -1.03432119e+00]\n",
      "  [-3.07919264e-01 -1.67420447e-01 -1.09311216e-01  2.55595982e-01\n",
      "    2.46198267e-01  4.25546974e-01 -4.44827795e-01 -2.68918335e-01\n",
      "   -4.51542884e-02  1.82647035e-02 -1.33708268e-01 -9.31330174e-02\n",
      "   -3.36551726e-01  4.42505032e-01  8.66504908e-02  1.27167985e-01]\n",
      "  [-2.94614077e-01  1.36127144e-01  3.25676382e-01  6.21187389e-01\n",
      "    3.36316317e-01 -1.04379855e-01 -1.63339041e-02  3.08523327e-01\n",
      "   -4.65135515e-01 -1.08957954e-03  2.67072529e-01 -1.38777509e-01\n",
      "    4.78076100e-01 -2.28835285e-01 -1.54468179e-01  6.49791509e-02]\n",
      "  [-1.20100833e-01 -3.74688327e-01  2.16249555e-01 -6.27609015e-01\n",
      "    9.34789479e-02  3.15254003e-01  2.04193965e-03  5.93273103e-01\n",
      "   -2.60597467e-01 -3.28928530e-01  1.62370071e-01  3.65583479e-01\n",
      "   -3.97211611e-01  2.26112679e-01  3.12613457e-01  6.99570542e-03]\n",
      "  [ 6.71046749e-02  3.72178108e-01  8.20290968e-02 -8.91071931e-02\n",
      "   -5.31146228e-01 -3.41738224e-01  2.44128346e-01 -3.83834511e-01\n",
      "   -2.71546364e-01 -4.94710386e-01 -1.25666693e-01  6.32434487e-01\n",
      "   -2.33161170e-02 -1.13699883e-01 -1.96682334e-01  1.77824885e-01]\n",
      "  [ 2.08782911e-01 -7.99309835e-02  5.96863210e-01  1.93455711e-01\n",
      "    2.09252626e-01  1.04880385e-01 -1.31126761e-01  2.75379866e-01\n",
      "    9.96192568e-04  2.37612173e-01  1.16889350e-01  3.64862569e-02\n",
      "    2.18982205e-01 -1.55720755e-01  4.42926019e-01 -1.73806250e-01]]\n",
      "\n",
      " [[-2.91544884e-01  1.79829776e-01 -2.06487700e-01 -3.44901115e-01\n",
      "    3.73095274e-02 -4.34786797e-01  3.52363706e-01 -3.06320727e-01\n",
      "    1.28834859e-01 -3.96533221e-01 -8.75606835e-01 -7.26150051e-02\n",
      "    7.31206220e-03 -1.72860384e-01  2.38500759e-01  2.49107450e-01]\n",
      "  [ 1.98909804e-01  6.59080520e-02  1.45528838e-01 -1.53559685e-01\n",
      "    3.27055275e-01  1.32335991e-01 -3.21409136e-01  2.22926989e-01\n",
      "   -6.16860926e-01 -2.15823770e-01  1.13835372e-01  2.61998743e-01\n",
      "   -3.02899301e-01 -2.76635796e-01  1.67108372e-01 -2.16666255e-02]\n",
      "  [ 3.05741787e-01  2.94128358e-01  6.71663880e-02 -4.85501476e-02\n",
      "   -1.51492566e-01  1.23755515e-01  4.45314944e-01 -3.08471948e-01\n",
      "    1.09296903e-01 -5.02129257e-01 -2.68018872e-01 -7.22336173e-01\n",
      "    1.99153587e-01 -1.54766366e-01 -8.88957009e-02 -8.25911164e-02]\n",
      "  [-7.26429606e-03  6.04704255e-04 -7.33323574e-01  3.69692855e-02\n",
      "   -6.26634732e-02  2.10209072e-01  3.55330437e-01  4.72636878e-01\n",
      "    2.13217422e-01  2.78752327e-01 -1.22177832e-01  1.81481481e-01\n",
      "   -6.09144568e-02  3.22247148e-02  2.81168193e-01  4.42811012e-01]\n",
      "  [ 4.06290203e-01  9.92589891e-02  3.20988327e-01  2.05527060e-02\n",
      "    3.54136340e-02  2.49812156e-01 -2.06010833e-01  1.21623650e-01\n",
      "   -2.52685815e-01  3.17701906e-01 -2.79268980e-01  1.97936058e-01\n",
      "   -9.84620303e-02 -5.91330091e-03 -2.93293595e-01 -4.15263295e-01]\n",
      "  [ 3.51753712e-01  1.62487715e-01  1.22419797e-01  1.70838773e-01\n",
      "   -4.04151350e-01  3.48729528e-02 -5.55727482e-02  3.56258780e-01\n",
      "    1.46877870e-01 -2.52732247e-01 -3.49974811e-01 -6.98999643e-01\n",
      "   -2.91481882e-01 -7.44222626e-02 -2.30265222e-02  3.23158056e-01]\n",
      "  [-4.49142545e-01  3.68699385e-03 -1.85226396e-01  1.95486635e-01\n",
      "   -9.97327939e-02 -2.03998372e-01 -3.09548378e-01 -4.23547998e-02\n",
      "   -2.80305564e-01 -2.16256052e-01  3.42776805e-01 -1.86287895e-01\n",
      "    1.20709604e-03  3.18943679e-01 -4.26162891e-02 -7.89267659e-01]\n",
      "  [-2.12619841e-01 -2.56046895e-02 -3.20255190e-01  3.39832157e-01\n",
      "   -8.64903331e-02  3.48048136e-02  3.13746482e-01  6.07397676e-01\n",
      "    5.08883633e-02 -2.14818776e-01  3.00460547e-01  3.38074625e-01\n",
      "    2.55154938e-01  1.01019666e-01 -5.18506587e-01 -1.84823904e-04]\n",
      "  [-1.15433849e-01  3.86304408e-01  7.66217858e-02  3.37127626e-01\n",
      "    3.13349575e-01 -9.88840759e-01  2.42886364e-01 -6.44530714e-01\n",
      "   -1.23849072e-01  2.94737220e-01 -3.08580160e-01 -2.44718358e-01\n",
      "    3.72593790e-01 -7.53622800e-02  7.91292906e-01 -2.04544619e-01]\n",
      "  [ 5.42218201e-02 -2.35595003e-01  4.46116388e-01  1.34198293e-01\n",
      "    6.90404102e-02 -1.15582243e-01  3.82140100e-01  2.57013049e-02\n",
      "   -2.33933657e-01 -2.93476433e-02  1.43728614e-01  4.33589309e-01\n",
      "   -1.75812855e-01  3.70962650e-01 -9.05288830e-02 -1.73893675e-01]\n",
      "  [-1.41165361e-01 -1.13393806e-01  2.58136243e-01  4.48381186e-01\n",
      "    4.66090627e-02 -3.66733342e-01  5.63219666e-01 -1.46924093e-01\n",
      "    4.50611472e-01  3.90697867e-01 -1.72671098e-02  4.13760573e-01\n",
      "   -3.69346231e-01  2.19039679e-01 -6.57427078e-03  4.13281977e-01]\n",
      "  [ 1.30553588e-01 -4.07163739e-01  3.64529520e-01 -4.54803482e-02\n",
      "   -3.44947241e-02 -1.01268142e-01  1.81119901e-03 -2.24174317e-02\n",
      "   -4.56948608e-01  6.74719289e-02 -1.30932599e-01 -1.54238984e-01\n",
      "   -4.24010456e-02  1.42344251e-01 -2.29534164e-01 -3.10230464e-01]\n",
      "  [ 3.48260134e-01  5.23911357e-01 -1.88605711e-01 -1.87077790e-01\n",
      "   -1.06200553e-01  9.80071351e-02  6.05784059e-01 -3.61992605e-02\n",
      "    6.14531875e-01  1.37575105e-01 -4.19962108e-01  5.18407151e-02\n",
      "   -1.06192581e-01  2.91790694e-01  1.69106424e-01 -2.69482106e-01]\n",
      "  [-5.50618172e-01 -2.80969560e-01 -5.10258019e-01  1.13193996e-01\n",
      "    1.92123830e-01 -1.49293110e-01 -7.11287707e-02  3.61889116e-02\n",
      "   -4.39844966e-01 -1.75989807e-01  1.36593103e-01 -8.17951187e-02\n",
      "   -4.70178902e-01  2.37625204e-02 -2.56145895e-01  1.95435733e-01]\n",
      "  [ 2.16063838e-02 -2.42996603e-01  1.97407633e-01  3.10844243e-01\n",
      "    1.63341716e-01 -1.87767580e-01 -3.62824127e-02  4.71546382e-01\n",
      "    1.33508131e-01  4.40838546e-01  4.69695739e-02 -6.09559845e-03\n",
      "   -2.70636290e-01  2.12223202e-01  3.45939845e-01 -1.73309356e-01]\n",
      "  [ 4.43460532e-02 -4.92356457e-02 -8.00661504e-01 -9.59668756e-02\n",
      "   -6.30974546e-02 -5.47786236e-01 -3.96356825e-03  3.57758343e-01\n",
      "    4.44280684e-01  3.42963129e-01 -2.79979140e-01 -5.31329811e-01\n",
      "    3.78089130e-01  2.71143556e-01  3.66307348e-01  2.14229867e-01]]]\n",
      "Layer 7 has no weights\n",
      "Layer 8 has no weights\n",
      "Layer 9 has no weights\n"
     ]
    }
   ],
   "source": [
    "import numpy as np\n",
    "\n",
    "for i, layer in enumerate(CNN_model.layers):  # Iterate over all layers\n",
    "    weights = layer.get_weights()  # Retrieve weights for each layer\n",
    "    if weights:\n",
    "        if isinstance(layer, Conv1D):  # Conv1D layer with 3D weights (filters)\n",
    "            layer_weights = weights[0]  # Filter weights (3D array)\n",
    "            print(layer_weights)\n",
    "\n",
    "            # Save weights as a binary .npy file\n",
    "            np.save(f\"layer_{i}_weights.npy\", layer_weights)\n",
    "\n",
    "            # Save bias if it exists\n",
    "            if len(weights) > 1:  # Bias exists\n",
    "                bias = weights[1]\n",
    "                np.save(f\"layer_{i}_bias.npy\", bias)\n",
    "\n",
    "        elif isinstance(layer, Dense):  # Dense layer with 2D weights\n",
    "            layer_weights = weights[0]  # Weights (2D array)\n",
    "            \n",
    "            # Save weights as a binary .npy file\n",
    "            np.save(f\"layer_{i}_weights.npy\", layer_weights)\n",
    "\n",
    "            # Save bias if it exists\n",
    "            if len(weights) > 1:  # Bias exists\n",
    "                bias = weights[1]\n",
    "                np.save(f\"layer_{i}_bias.npy\", bias)\n",
    "\n",
    "    else:\n",
    "        print(f\"Layer {i} has no weights\")\n"
   ]
  },
  {
   "cell_type": "code",
   "execution_count": 71,
   "metadata": {},
   "outputs": [
    {
     "name": "stdout",
     "output_type": "stream",
     "text": [
      "(5, 1, 32)\n"
     ]
    }
   ],
   "source": [
    "# Load the weights back\n",
    "loaded_weights = np.load('layer_0_weights.npy')\n",
    "\n",
    "# Check the shape of the loaded weights\n",
    "print(loaded_weights.shape)  # This should print (32, 5, 5)\n"
   ]
  },
  {
   "cell_type": "code",
   "execution_count": 1,
   "metadata": {},
   "outputs": [
    {
     "ename": "NameError",
     "evalue": "name 'layer' is not defined",
     "output_type": "error",
     "traceback": [
      "\u001b[1;31m---------------------------------------------------------------------------\u001b[0m",
      "\u001b[1;31mNameError\u001b[0m                                 Traceback (most recent call last)",
      "Cell \u001b[1;32mIn[1], line 1\u001b[0m\n\u001b[1;32m----> 1\u001b[0m weights \u001b[38;5;241m=\u001b[39m \u001b[43mlayer\u001b[49m\u001b[38;5;241m.\u001b[39mget_weights()\n\u001b[0;32m      2\u001b[0m \u001b[38;5;28mprint\u001b[39m(\u001b[38;5;124m\"\u001b[39m\u001b[38;5;124mShape of weights[0]:\u001b[39m\u001b[38;5;124m\"\u001b[39m, weights[\u001b[38;5;241m0\u001b[39m]\u001b[38;5;241m.\u001b[39mshape)  \u001b[38;5;66;03m# Should be (32, 5, 1)\u001b[39;00m\n\u001b[0;32m      3\u001b[0m \u001b[38;5;28;01mif\u001b[39;00m \u001b[38;5;28mlen\u001b[39m(weights) \u001b[38;5;241m>\u001b[39m \u001b[38;5;241m1\u001b[39m:\n",
      "\u001b[1;31mNameError\u001b[0m: name 'layer' is not defined"
     ]
    }
   ],
   "source": [
    "weights = layer.get_weights()\n",
    "print(\"Shape of weights[0]:\", weights[0].shape)  # Should be (32, 5, 1)\n",
    "if len(weights) > 1:\n",
    "    print(\"Shape of weights[1]:\", weights[1].shape)  # Should be (32,)\n"
   ]
  },
  {
   "cell_type": "markdown",
   "metadata": {},
   "source": [
    "\n",
    "   for i, layer in enumerate(CNN_model.layers):\n",
    "       weights = layer.get_weights()\n",
    "       print(\"Shape of weights[0]:\", weights[0].shape)\n",
    "       for filter_idx in range(layer_weights.shape[0]):  \n",
    "            print(f\"Filter {filter_idx} weights:\")\n",
    "            print(layer_weights[filter_idx])\n",
    "\n",
    "    "
   ]
  },
  {
   "cell_type": "code",
   "execution_count": null,
   "metadata": {},
   "outputs": [],
   "source": []
  },
  {
   "cell_type": "markdown",
   "metadata": {},
   "source": [
    "\n"
   ]
  }
 ],
 "metadata": {
  "kaggle": {
   "accelerator": "nvidiaTeslaT4",
   "dataSources": [
    {
     "datasetId": 29414,
     "sourceId": 37484,
     "sourceType": "datasetVersion"
    }
   ],
   "dockerImageVersionId": 30699,
   "isGpuEnabled": true,
   "isInternetEnabled": true,
   "language": "python",
   "sourceType": "notebook"
  },
  "kernelspec": {
   "display_name": "Python 3 (ipykernel)",
   "language": "python",
   "name": "python3"
  },
  "language_info": {
   "codemirror_mode": {
    "name": "ipython",
    "version": 3
   },
   "file_extension": ".py",
   "mimetype": "text/x-python",
   "name": "python",
   "nbconvert_exporter": "python",
   "pygments_lexer": "ipython3",
   "version": "3.12.6"
  }
 },
 "nbformat": 4,
 "nbformat_minor": 4
}
